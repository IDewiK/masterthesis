{
 "cells": [
  {
   "cell_type": "markdown",
   "metadata": {},
   "source": [
    "## Example SPARQL Queries on the constructed Knowledge Graph"
   ]
  },
  {
   "cell_type": "code",
   "execution_count": null,
   "metadata": {},
   "outputs": [],
   "source": [
    "This section presents five example SPARQL Queries that were executed on the previously created Knowledge Graph."
   ]
  },
  {
   "cell_type": "markdown",
   "metadata": {},
   "source": [
    "### Import libraries\n",
    "\n",
    "All necessary libraries to execute SPARQL queries witin a Jupyter Notebook are imported in the next cell."
   ]
  },
  {
   "cell_type": "code",
   "execution_count": 1,
   "metadata": {
    "colab": {
     "base_uri": "https://localhost:8080/"
    },
    "executionInfo": {
     "elapsed": 73153,
     "status": "ok",
     "timestamp": 1640637852760,
     "user": {
      "displayName": "Dewi K",
      "photoUrl": "https://lh3.googleusercontent.com/a/default-user=s64",
      "userId": "03606647171577901504"
     },
     "user_tz": -60
    },
    "id": "ATJ5ymz4oubQ",
    "outputId": "cbb3c4be-bfc7-40f8-959a-65d3617360cc"
   },
   "outputs": [
    {
     "name": "stdout",
     "output_type": "stream",
     "text": [
      "Collecting rdflib\n",
      "  Downloading rdflib-6.1.1-py3-none-any.whl (482 kB)\n",
      "\u001b[?25l\r\n",
      "\u001b[K     |▊                               | 10 kB 24.4 MB/s eta 0:00:01\r\n",
      "\u001b[K     |█▍                              | 20 kB 29.1 MB/s eta 0:00:01\r\n",
      "\u001b[K     |██                              | 30 kB 12.5 MB/s eta 0:00:01\r\n",
      "\u001b[K     |██▊                             | 40 kB 6.6 MB/s eta 0:00:01\r\n",
      "\u001b[K     |███▍                            | 51 kB 7.4 MB/s eta 0:00:01\r\n",
      "\u001b[K     |████                            | 61 kB 8.0 MB/s eta 0:00:01\r\n",
      "\u001b[K     |████▊                           | 71 kB 7.0 MB/s eta 0:00:01\r\n",
      "\u001b[K     |█████▍                          | 81 kB 7.7 MB/s eta 0:00:01\r\n",
      "\u001b[K     |██████                          | 92 kB 6.9 MB/s eta 0:00:01\r\n",
      "\u001b[K     |██████▉                         | 102 kB 7.0 MB/s eta 0:00:01\r\n",
      "\u001b[K     |███████▌                        | 112 kB 7.0 MB/s eta 0:00:01\r\n",
      "\u001b[K     |████████▏                       | 122 kB 7.0 MB/s eta 0:00:01\r\n",
      "\u001b[K     |████████▉                       | 133 kB 7.0 MB/s eta 0:00:01\r\n",
      "\u001b[K     |█████████▌                      | 143 kB 7.0 MB/s eta 0:00:01\r\n",
      "\u001b[K     |██████████▏                     | 153 kB 7.0 MB/s eta 0:00:01\r\n",
      "\u001b[K     |██████████▉                     | 163 kB 7.0 MB/s eta 0:00:01\r\n",
      "\u001b[K     |███████████▌                    | 174 kB 7.0 MB/s eta 0:00:01\r\n",
      "\u001b[K     |████████████▏                   | 184 kB 7.0 MB/s eta 0:00:01\r\n",
      "\u001b[K     |█████████████                   | 194 kB 7.0 MB/s eta 0:00:01\r\n",
      "\u001b[K     |█████████████▋                  | 204 kB 7.0 MB/s eta 0:00:01\r\n",
      "\u001b[K     |██████████████▎                 | 215 kB 7.0 MB/s eta 0:00:01\r\n",
      "\u001b[K     |███████████████                 | 225 kB 7.0 MB/s eta 0:00:01\r\n",
      "\u001b[K     |███████████████▋                | 235 kB 7.0 MB/s eta 0:00:01\r\n",
      "\u001b[K     |████████████████▎               | 245 kB 7.0 MB/s eta 0:00:01\r\n",
      "\u001b[K     |█████████████████               | 256 kB 7.0 MB/s eta 0:00:01\r\n",
      "\u001b[K     |█████████████████▋              | 266 kB 7.0 MB/s eta 0:00:01\r\n",
      "\u001b[K     |██████████████████▎             | 276 kB 7.0 MB/s eta 0:00:01\r\n",
      "\u001b[K     |███████████████████             | 286 kB 7.0 MB/s eta 0:00:01\r\n",
      "\u001b[K     |███████████████████▊            | 296 kB 7.0 MB/s eta 0:00:01\r\n",
      "\u001b[K     |████████████████████▍           | 307 kB 7.0 MB/s eta 0:00:01\r\n",
      "\u001b[K     |█████████████████████           | 317 kB 7.0 MB/s eta 0:00:01\r\n",
      "\u001b[K     |█████████████████████▊          | 327 kB 7.0 MB/s eta 0:00:01\r\n",
      "\u001b[K     |██████████████████████▍         | 337 kB 7.0 MB/s eta 0:00:01\r\n",
      "\u001b[K     |███████████████████████         | 348 kB 7.0 MB/s eta 0:00:01\r\n",
      "\u001b[K     |███████████████████████▊        | 358 kB 7.0 MB/s eta 0:00:01\r\n",
      "\u001b[K     |████████████████████████▍       | 368 kB 7.0 MB/s eta 0:00:01\r\n",
      "\u001b[K     |█████████████████████████▏      | 378 kB 7.0 MB/s eta 0:00:01\r\n",
      "\u001b[K     |█████████████████████████▉      | 389 kB 7.0 MB/s eta 0:00:01\r\n",
      "\u001b[K     |██████████████████████████▌     | 399 kB 7.0 MB/s eta 0:00:01\r\n",
      "\u001b[K     |███████████████████████████▏    | 409 kB 7.0 MB/s eta 0:00:01\r\n",
      "\u001b[K     |███████████████████████████▉    | 419 kB 7.0 MB/s eta 0:00:01\r\n",
      "\u001b[K     |████████████████████████████▌   | 430 kB 7.0 MB/s eta 0:00:01\r\n",
      "\u001b[K     |█████████████████████████████▏  | 440 kB 7.0 MB/s eta 0:00:01\r\n",
      "\u001b[K     |█████████████████████████████▉  | 450 kB 7.0 MB/s eta 0:00:01\r\n",
      "\u001b[K     |██████████████████████████████▌ | 460 kB 7.0 MB/s eta 0:00:01\r\n",
      "\u001b[K     |███████████████████████████████▏| 471 kB 7.0 MB/s eta 0:00:01\r\n",
      "\u001b[K     |████████████████████████████████| 481 kB 7.0 MB/s eta 0:00:01\r\n",
      "\u001b[K     |████████████████████████████████| 482 kB 7.0 MB/s \n",
      "\u001b[?25hCollecting isodate\n",
      "  Downloading isodate-0.6.1-py2.py3-none-any.whl (41 kB)\n",
      "\u001b[?25l\r\n",
      "\u001b[K     |███████▉                        | 10 kB 28.5 MB/s eta 0:00:01\r\n",
      "\u001b[K     |███████████████▊                | 20 kB 35.1 MB/s eta 0:00:01\r\n",
      "\u001b[K     |███████████████████████▋        | 30 kB 42.9 MB/s eta 0:00:01\r\n",
      "\u001b[K     |███████████████████████████████▍| 40 kB 47.4 MB/s eta 0:00:01\r\n",
      "\u001b[K     |████████████████████████████████| 41 kB 571 kB/s \n",
      "\u001b[?25hRequirement already satisfied: pyparsing in /usr/local/lib/python3.7/dist-packages (from rdflib) (3.0.6)\n",
      "Requirement already satisfied: importlib-metadata in /usr/local/lib/python3.7/dist-packages (from rdflib) (4.8.2)\n",
      "Requirement already satisfied: setuptools in /usr/local/lib/python3.7/dist-packages (from rdflib) (57.4.0)\n",
      "Requirement already satisfied: zipp>=0.5 in /usr/local/lib/python3.7/dist-packages (from importlib-metadata->rdflib) (3.6.0)\n",
      "Requirement already satisfied: typing-extensions>=3.6.4 in /usr/local/lib/python3.7/dist-packages (from importlib-metadata->rdflib) (3.10.0.2)\n",
      "Requirement already satisfied: six in /usr/local/lib/python3.7/dist-packages (from isodate->rdflib) (1.15.0)\n",
      "Installing collected packages: isodate, rdflib\n",
      "Successfully installed isodate-0.6.1 rdflib-6.1.1\n",
      "Collecting git+https://github.com/RDFLib/sparqlwrapper\n",
      "  Cloning https://github.com/RDFLib/sparqlwrapper to /tmp/pip-req-build-xjsiznpr\n",
      "  Running command git clone -q https://github.com/RDFLib/sparqlwrapper /tmp/pip-req-build-xjsiznpr\n",
      "Requirement already satisfied: rdflib>=4.0 in /usr/local/lib/python3.7/dist-packages (from SPARQLWrapper==1.9.0.dev0) (6.1.1)\n",
      "Requirement already satisfied: pyparsing in /usr/local/lib/python3.7/dist-packages (from rdflib>=4.0->SPARQLWrapper==1.9.0.dev0) (3.0.6)\n",
      "Requirement already satisfied: setuptools in /usr/local/lib/python3.7/dist-packages (from rdflib>=4.0->SPARQLWrapper==1.9.0.dev0) (57.4.0)\n",
      "Requirement already satisfied: importlib-metadata in /usr/local/lib/python3.7/dist-packages (from rdflib>=4.0->SPARQLWrapper==1.9.0.dev0) (4.8.2)\n",
      "Requirement already satisfied: isodate in /usr/local/lib/python3.7/dist-packages (from rdflib>=4.0->SPARQLWrapper==1.9.0.dev0) (0.6.1)\n",
      "Requirement already satisfied: typing-extensions>=3.6.4 in /usr/local/lib/python3.7/dist-packages (from importlib-metadata->rdflib>=4.0->SPARQLWrapper==1.9.0.dev0) (3.10.0.2)\n",
      "Requirement already satisfied: zipp>=0.5 in /usr/local/lib/python3.7/dist-packages (from importlib-metadata->rdflib>=4.0->SPARQLWrapper==1.9.0.dev0) (3.6.0)\n",
      "Requirement already satisfied: six in /usr/local/lib/python3.7/dist-packages (from isodate->rdflib>=4.0->SPARQLWrapper==1.9.0.dev0) (1.15.0)\n",
      "Building wheels for collected packages: SPARQLWrapper\n",
      "  Building wheel for SPARQLWrapper (setup.py) ... \u001b[?25l\u001b[?25hdone\n",
      "  Created wheel for SPARQLWrapper: filename=SPARQLWrapper-1.9.0.dev0-py3-none-any.whl size=24241 sha256=4fac6a894c5cfcf5ceba24c653afc5f8e1e3186262f55c70b68415e04033c824\n",
      "  Stored in directory: /tmp/pip-ephem-wheel-cache-xw68by7b/wheels/81/5d/ac/0740ee737b5f550d0cd688b803c70deb9e5e74bd32c3f86f9c\n",
      "Successfully built SPARQLWrapper\n",
      "Installing collected packages: SPARQLWrapper\n",
      "Successfully installed SPARQLWrapper-1.9.0.dev0\n",
      "Mounted at /content/gdrive\n"
     ]
    },
    {
     "data": {
      "text/plain": [
       "<Graph identifier=N93bc4f3a25004e519dd1540e592979e2 (<class 'rdflib.graph.Graph'>)>"
      ]
     },
     "execution_count": 1,
     "metadata": {},
     "output_type": "execute_result"
    }
   ],
   "source": [
    "'''Import Statements'''\n",
    "!pip install rdflib\n",
    "!pip install git+https://github.com/RDFLib/sparqlwrapper\n",
    "\n",
    "from rdflib import Graph\n",
    "from SPARQLWrapper import SPARQLWrapper\n",
    "from SPARQLWrapper import XML, GET, POST, JSON, JSONLD, N3, TURTLE, RDF, SELECT, INSERT, RDFXML, CSV, TSV\n",
    "import requests\n",
    "\n",
    "# from google.colab import drive \n",
    "# drive.mount('/content/gdrive')\n",
    "\n",
    "g = Graph()\n",
    "g.parse(\"./Outputs/NA-KG1908.ttl\")"
   ]
  },
  {
   "cell_type": "markdown",
   "metadata": {
    "id": "E7sJObbQg8L6"
   },
   "source": [
    "# QUERY 1 : Which were the top 10 most common profession in Nuremberg in 1908?"
   ]
  },
  {
   "cell_type": "code",
   "execution_count": 5,
   "metadata": {
    "colab": {
     "base_uri": "https://localhost:8080/"
    },
    "executionInfo": {
     "elapsed": 2942,
     "status": "ok",
     "timestamp": 1640637905758,
     "user": {
      "displayName": "Dewi K",
      "photoUrl": "https://lh3.googleusercontent.com/a/default-user=s64",
      "userId": "03606647171577901504"
     },
     "user_tz": -60
    },
    "id": "wd8IBwJZhD-F",
    "outputId": "58509982-7f0f-47a9-8482-cd46deac571b"
   },
   "outputs": [
    {
     "name": "stdout",
     "output_type": "stream",
     "text": [
      "3459 inhabitants of Nuremberg where Kaufmann/-frau - Einzelhandel as their profession.\n",
      "2059 inhabitants of Nuremberg where Tagelöhner/in as their profession.\n",
      "1770 inhabitants of Nuremberg where Privatier/in as their profession.\n",
      "1622 inhabitants of Nuremberg where Schreiner/in as their profession.\n",
      "1512 inhabitants of Nuremberg where Schlosser/in as their profession.\n",
      "1095 inhabitants of Nuremberg where Wirt as their profession.\n",
      "1095 inhabitants of Nuremberg where Wirt/in (Gastwirt/in) as their profession.\n",
      "979 inhabitants of Nuremberg where Schuhmacher/in as their profession.\n",
      "967 inhabitants of Nuremberg where Fabrikarbeiter/in - allgemein as their profession.\n",
      "761 inhabitants of Nuremberg where Rohstoffgewinnung, Produktion und Fertigung as their profession.\n"
     ]
    }
   ],
   "source": [
    "most_common_profession = '''\n",
    "PREFIX : <http://transraz/>\n",
    "PREFIX dbo: <http://dbpedia.org/ontology/>\n",
    "PREFIX foaf: <http://xmlns.com/foaf/0.1/>\n",
    "PREFIX transraz: <http://transraz/>\n",
    "PREFIX addressbook: <http://transraz/addressbook1908#>\n",
    "PREFIX rdf: <http://www.w3.org/1999/02/22-rdf-syntax-ns#>\n",
    "PREFIX rdfs: <http://www.w3.org/2000/01/rdf-schema#>\n",
    "\n",
    "SELECT ?p (COUNT (?p) as ?np)\n",
    "    WHERE {\n",
    "        ?person dbo:profession ?profession .\n",
    "        ?profession transraz:normalizedOccupation ?normprofession .\n",
    "        ?normprofession rdfs:label ?p .\n",
    "    } GROUP BY ?p\n",
    "    ORDER BY DESC (?np)\n",
    "    LIMIT 10\n",
    "'''\n",
    "for row in g.query(most_common_profession):\n",
    "    print(f\"{row.np} inhabitants of Nuremberg where {row.p} as their profession.\")"
   ]
  },
  {
   "cell_type": "markdown",
   "metadata": {
    "id": "u-vhsJEZvqgN"
   },
   "source": [
    "## QUERY 2 : Which profession occurs how often regarding the inhabitants of the 'Grenzstraße'?"
   ]
  },
  {
   "cell_type": "code",
   "execution_count": 4,
   "metadata": {
    "colab": {
     "base_uri": "https://localhost:8080/"
    },
    "executionInfo": {
     "elapsed": 343,
     "status": "ok",
     "timestamp": 1640637896350,
     "user": {
      "displayName": "Dewi K",
      "photoUrl": "https://lh3.googleusercontent.com/a/default-user=s64",
      "userId": "03606647171577901504"
     },
     "user_tz": -60
    },
    "id": "JtmdVBbfzIS7",
    "outputId": "0951167e-a702-4dab-9bce-2c62518eb2b2"
   },
   "outputs": [
    {
     "name": "stdout",
     "output_type": "stream",
     "text": [
      "1 Amtsoffiziant/in - Kommunalebene lives at this 'Grenzstraße'\n",
      "1 Bankbeamt(er/in) (mittl. Dienst) lives at this 'Grenzstraße'\n",
      "1 Beschäftigungslose, Schüler, Unbekannte lives at this 'Grenzstraße'\n",
      "1 Flaschner/in lives at this 'Grenzstraße'\n",
      "1 Gasarbeiter/in lives at this 'Grenzstraße'\n",
      "1 Gerber/in lives at this 'Grenzstraße'\n",
      "1 Glasarbeiter/in lives at this 'Grenzstraße'\n",
      "1 Glaser/in lives at this 'Grenzstraße'\n",
      "1 Gold-, Silber- und Metallschläger/in lives at this 'Grenzstraße'\n",
      "1 Goldarbeiter/in lives at this 'Grenzstraße'\n",
      "1 Graveur/in lives at this 'Grenzstraße'\n",
      "1 Gussputzer/in lives at this 'Grenzstraße'\n",
      "1 Gürtler/in lives at this 'Grenzstraße'\n",
      "1 Hafnermeister/in lives at this 'Grenzstraße'\n",
      "1 Hauptschullehrer/in, Hauptlehrer/in lives at this 'Grenzstraße'\n",
      "1 Hausdiener/in lives at this 'Grenzstraße'\n",
      "1 Hausmann/-frau - Hausmannstürmer/in lives at this 'Grenzstraße'\n",
      "1 Hausmeister/in lives at this 'Grenzstraße'\n",
      "1 Hilfsarbeiter/in lives at this 'Grenzstraße'\n",
      "1 Holzhauer/in lives at this 'Grenzstraße'\n",
      "1 Holzsäger/in lives at this 'Grenzstraße'\n",
      "1 Juwelier/in lives at this 'Grenzstraße'\n",
      "1 Kammacher/in (Holz) lives at this 'Grenzstraße'\n",
      "1 Kofferträger/in lives at this 'Grenzstraße'\n",
      "1 Kommerzienrat/-rätin lives at this 'Grenzstraße'\n",
      "1 Kommis lives at this 'Grenzstraße'\n",
      "1 Kommissionär/in lives at this 'Grenzstraße'\n",
      "1 Korbmacher/in lives at this 'Grenzstraße'\n",
      "1 Land-, Forst- und Tierwirtschaft und Gartenbau lives at this 'Grenzstraße'\n",
      "1 Laternenanzünder/in lives at this 'Grenzstraße'\n",
      "1 Laternenwärter/in lives at this 'Grenzstraße'\n",
      "1 Läder/in lives at this 'Grenzstraße'\n",
      "1 Magaziner/in lives at this 'Grenzstraße'\n",
      "1 Maschinenschlosser/in lives at this 'Grenzstraße'\n",
      "1 Melkermeister/in lives at this 'Grenzstraße'\n",
      "1 Messjunge/-mädchen lives at this 'Grenzstraße'\n",
      "1 Metalldreher/in lives at this 'Grenzstraße'\n",
      "1 Metalldrücker/in lives at this 'Grenzstraße'\n",
      "1 Metzger/in lives at this 'Grenzstraße'\n",
      "1 Monteur/in lives at this 'Grenzstraße'\n",
      "1 Musiker/in lives at this 'Grenzstraße'\n",
      "1 Mälzer/in lives at this 'Grenzstraße'\n",
      "1 Müller/in lives at this 'Grenzstraße'\n",
      "1 Oberexpeditor/in lives at this 'Grenzstraße'\n",
      "1 Obermeister/in (allgemein) lives at this 'Grenzstraße'\n",
      "1 Obsthändler/in lives at this 'Grenzstraße'\n",
      "1 Ofensetzer/in lives at this 'Grenzstraße'\n",
      "1 Pensionär/in lives at this 'Grenzstraße'\n",
      "1 Polierer/in lives at this 'Grenzstraße'\n",
      "1 Reißzeugmacher/in lives at this 'Grenzstraße'\n",
      "1 Rotgießer/in lives at this 'Grenzstraße'\n",
      "1 Rotschmied/in lives at this 'Grenzstraße'\n",
      "1 Sattler/in lives at this 'Grenzstraße'\n",
      "1 Schieferdachdecker/in lives at this 'Grenzstraße'\n",
      "1 Schleifer/in lives at this 'Grenzstraße'\n",
      "1 Schreiber/in lives at this 'Grenzstraße'\n",
      "1 Schreinermeister/in lives at this 'Grenzstraße'\n",
      "1 Schuhmachermeister/in lives at this 'Grenzstraße'\n",
      "1 Schweinestecher/in lives at this 'Grenzstraße'\n",
      "1 Sprachlehrer/in lives at this 'Grenzstraße'\n",
      "1 Sticker/in lives at this 'Grenzstraße'\n",
      "1 Straßenbahnschaffner/in lives at this 'Grenzstraße'\n",
      "1 Taucher/in lives at this 'Grenzstraße'\n",
      "1 Techniker/in - allgemein lives at this 'Grenzstraße'\n",
      "1 Triebwagenführer/in lives at this 'Grenzstraße'\n",
      "1 Uhrmacher/in lives at this 'Grenzstraße'\n",
      "1 Verwalter/in - Immobilien lives at this 'Grenzstraße'\n",
      "1 Viehhändler/in lives at this 'Grenzstraße'\n",
      "1 Wächter/in, Aufseher/in lives at this 'Grenzstraße'\n",
      "1 Zahnarzt/-ärztin lives at this 'Grenzstraße'\n",
      "1 Zahntechniker/in lives at this 'Grenzstraße'\n",
      "1 Zimmerer/Zimmerin lives at this 'Grenzstraße'\n",
      "1 Zimmerermeister/in lives at this 'Grenzstraße'\n",
      "1 Zuckerwarenfabrikant/in (Arbeiter/in) lives at this 'Grenzstraße'\n",
      "2  lives at this 'Grenzstraße'\n",
      "2 Bahngehilfe/-gehilfin lives at this 'Grenzstraße'\n",
      "2 Ingenieur/in - allgemein lives at this 'Grenzstraße'\n",
      "2 Installateur/in lives at this 'Grenzstraße'\n",
      "2 Kleidermacher/in lives at this 'Grenzstraße'\n",
      "2 Landwirt/in, Junglandwirt/in lives at this 'Grenzstraße'\n",
      "2 Maler/in lives at this 'Grenzstraße'\n",
      "2 Metallbearbeiter/in lives at this 'Grenzstraße'\n",
      "2 Packer/in lives at this 'Grenzstraße'\n",
      "2 Rentier/in lives at this 'Grenzstraße'\n",
      "2 Schneider/in lives at this 'Grenzstraße'\n",
      "2 Schneidermeister/in lives at this 'Grenzstraße'\n",
      "2 Schriftsetzer/in lives at this 'Grenzstraße'\n",
      "2 Schutzmann/-frau (Polizist/in) lives at this 'Grenzstraße'\n",
      "2 Spezereienhändler/in lives at this 'Grenzstraße'\n",
      "2 Steindrucker/in lives at this 'Grenzstraße'\n",
      "2 Tapezierer/in lives at this 'Grenzstraße'\n",
      "2 Unterhändler/in lives at this 'Grenzstraße'\n",
      "2 Unternehmensorganisation, Buchhaltung, Recht und Verwaltung lives at this 'Grenzstraße'\n",
      "2 Vorarbeiter/in lives at this 'Grenzstraße'\n",
      "2 Wagnermeister/in lives at this 'Grenzstraße'\n",
      "3 Ausgeher/in lives at this 'Grenzstraße'\n",
      "3 Bahnarbeiter/in lives at this 'Grenzstraße'\n",
      "3 Lehrer/in lives at this 'Grenzstraße'\n",
      "3 Mechaniker/in lives at this 'Grenzstraße'\n",
      "3 Reisende/r lives at this 'Grenzstraße'\n",
      "3 Tabakarbeiter/in lives at this 'Grenzstraße'\n",
      "3 Werkmeister/in lives at this 'Grenzstraße'\n",
      "4 Fabrikarbeiter/in - allgemein lives at this 'Grenzstraße'\n",
      "4 Hafner/in lives at this 'Grenzstraße'\n",
      "4 Schmied/in lives at this 'Grenzstraße'\n",
      "4 Schäfer/in lives at this 'Grenzstraße'\n",
      "5 Heizer/in lives at this 'Grenzstraße'\n",
      "5 Holzhändler/in lives at this 'Grenzstraße'\n",
      "5 Lackierer/in - allgemein lives at this 'Grenzstraße'\n",
      "5 Maschinist/in lives at this 'Grenzstraße'\n",
      "5 Pinselmacher/in lives at this 'Grenzstraße'\n",
      "5 Privatier/in lives at this 'Grenzstraße'\n",
      "5 Salzarbeiter/in, Hallarbeiter/in lives at this 'Grenzstraße'\n",
      "6 Kutscher/in lives at this 'Grenzstraße'\n",
      "7 Gärtner/in lives at this 'Grenzstraße'\n",
      "7 Wirt lives at this 'Grenzstraße'\n",
      "7 Wirt/in (Gastwirt/in) lives at this 'Grenzstraße'\n",
      "8 Holzdrechsler/in lives at this 'Grenzstraße'\n",
      "8 Schreiner/in lives at this 'Grenzstraße'\n",
      "8 Schuhmacher/in lives at this 'Grenzstraße'\n",
      "9 Schlosser/in lives at this 'Grenzstraße'\n",
      "10 Händler/in lives at this 'Grenzstraße'\n",
      "10 Kaufmann/-frau - Einzelhandel lives at this 'Grenzstraße'\n",
      "10 Tüncher/in lives at this 'Grenzstraße'\n",
      "10 Zimmerergeselle/-gesellin lives at this 'Grenzstraße'\n",
      "12 Arbeiter/in - allgemein lives at this 'Grenzstraße'\n",
      "14 Rohstoffgewinnung, Produktion und Fertigung lives at this 'Grenzstraße'\n",
      "22 Maurer/in lives at this 'Grenzstraße'\n",
      "24 Ökonom/in lives at this 'Grenzstraße'\n",
      "39 Tagelöhner/in lives at this 'Grenzstraße'\n"
     ]
    }
   ],
   "source": [
    "diff_profession_in_Building = '''\n",
    "PREFIX : <http://transraz/>\n",
    "PREFIX dbo: <http://dbpedia.org/ontology/>\n",
    "PREFIX foaf: <http://xmlns.com/foaf/0.1/>\n",
    "PREFIX transraz: <http://transraz/>\n",
    "PREFIX addressbook: <http://transraz/addressbook1908#>\n",
    "PREFIX rdf: <http://www.w3.org/1999/02/22-rdf-syntax-ns#>\n",
    "PREFIX rdfs: <http://www.w3.org/2000/01/rdf-schema#>\n",
    "\n",
    "SELECT ?s ?o (count(?o) AS ?counto)\n",
    "    WHERE {\n",
    "        ?occupation :normalizedOccupation ?normoccupation .\n",
    "        ?normoccupation rdfs:label ?o .\n",
    "        ?person dbo:profession ?occupation .\n",
    "        ?person :address ?address .\n",
    "        ?buildpartfloor :address ?address .\n",
    "        ?buildpartfloor dbo:part ?buildpart .\n",
    "        ?buildpart dbo:part ?building .\n",
    "        ?building :streetAddress ?street .\n",
    "        ?street rdfs:label 'Grenzstraße' .\n",
    "        }\n",
    "        GROUP BY ?o\n",
    "        ORDER BY ?counto ASC (?o) \n",
    "        '''\n",
    "\n",
    "for row in g.query(diff_profession_in_Building):\n",
    "    print(f\"{row.counto} {row.o} lives at this 'Grenzstraße'\")"
   ]
  },
  {
   "cell_type": "markdown",
   "metadata": {
    "id": "A9MSq8gLEXPV"
   },
   "source": [
    "# QUERY 3 : Who owned most houses in Nuremberg in 1908?"
   ]
  },
  {
   "cell_type": "code",
   "execution_count": 6,
   "metadata": {
    "colab": {
     "base_uri": "https://localhost:8080/"
    },
    "executionInfo": {
     "elapsed": 1590,
     "status": "ok",
     "timestamp": 1640637931816,
     "user": {
      "displayName": "Dewi K",
      "photoUrl": "https://lh3.googleusercontent.com/a/default-user=s64",
      "userId": "03606647171577901504"
     },
     "user_tz": -60
    },
    "id": "xZZDmiUFWxkY",
    "outputId": "361bf168-5d68-4b3d-9936-e051c148f873"
   },
   "outputs": [
    {
     "name": "stdout",
     "output_type": "stream",
     "text": [
      "A. Winkelmann was the owner of 5 houses.\n",
      "Arbeiter was the owner of 4 houses.\n",
      "vord was the owner of 4 houses.\n",
      "A. Gömmel was the owner of 3 houses.\n",
      "I. Maier was the owner of 3 houses.\n",
      "M. Held was the owner of 2 houses.\n",
      "Gesamtfamilie was the owner of 2 houses.\n",
      "L. Reich was the owner of 2 houses.\n",
      "G. Hübler was the owner of 2 houses.\n",
      "I. Kurz was the owner of 2 houses.\n",
      "G. Pirner was the owner of 2 houses.\n",
      "I. Erhardt was the owner of 2 houses.\n",
      "Gebr was the owner of 2 houses.\n",
      "E Rosenbaum was the owner of 2 houses.\n",
      "K. Bauer was the owner of 1 houses.\n",
      "Eh. Kastner was the owner of 1 houses.\n",
      "Ch. Kastner was the owner of 1 houses.\n",
      "E. Pappenheimer was the owner of 1 houses.\n",
      "G. Leidel was the owner of 1 houses.\n",
      "s und Kommerzienrat was the owner of 1 houses.\n",
      "I. Reif was the owner of 1 houses.\n",
      "A. Walcher was the owner of 1 houses.\n",
      "e und Gesamtfamilie was the owner of 1 houses.\n",
      "L. Neu was the owner of 1 houses.\n",
      "I. Hofmann was the owner of 1 houses.\n",
      "G. Meyer was the owner of 1 houses.\n",
      "I. Mttnkcr was the owner of 1 houses.\n",
      "H. Zeltner was the owner of 1 houses.\n",
      "I. Häfner was the owner of 1 houses.\n",
      "K. Nold was the owner of 1 houses.\n",
      "E. Roß was the owner of 1 houses.\n",
      "I. Rieht was the owner of 1 houses.\n",
      "H. SchneiderDautt was the owner of 1 houses.\n",
      "A. Böbel was the owner of 1 houses.\n",
      "K. Hutzelmcier was the owner of 1 houses.\n",
      "F. Hirschmann was the owner of 1 houses.\n",
      "K. Ensmann was the owner of 1 houses.\n",
      "Gostenh was the owner of 1 houses.\n",
      "G. UlImann was the owner of 1 houses.\n",
      "I. Gebhardt was the owner of 1 houses.\n",
      "E. Junghändel was the owner of 1 houses.\n",
      "Birkner was the owner of 1 houses.\n",
      "M. Steinlein was the owner of 1 houses.\n",
      "F. Pirner was the owner of 1 houses.\n",
      "H. Stadler was the owner of 1 houses.\n",
      "I. Lipp was the owner of 1 houses.\n",
      "K. Klein was the owner of 1 houses.\n",
      "I. Voit was the owner of 1 houses.\n",
      "R. Hammerand was the owner of 1 houses.\n",
      "E. Lämmermann was the owner of 1 houses.\n",
      "I. Katti was the owner of 1 houses.\n",
      "Ch. Gräbner was the owner of 1 houses.\n",
      "Chr. Gräbner was the owner of 1 houses.\n",
      "Jul was the owner of 1 houses.\n",
      "W. Wüst was the owner of 1 houses.\n",
      "W. Kühnlein was the owner of 1 houses.\n",
      "I. Schwemmer was the owner of 1 houses.\n",
      "Gostenhf was the owner of 1 houses.\n",
      "E Rauh was the owner of 1 houses.\n",
      "Mögeld was the owner of 1 houses.\n",
      "F. Bochnig was the owner of 1 houses.\n",
      "hier was the owner of 1 houses.\n",
      "II. Endreß was the owner of 1 houses.\n",
      "I. Aufseeßer was the owner of 1 houses.\n",
      "K. Schmutzer was the owner of 1 houses.\n",
      "F. Bauerfeind was the owner of 1 houses.\n",
      "K. Schelkopf was the owner of 1 houses.\n",
      "G. Mengert was the owner of 1 houses.\n",
      "F. ZDörr was the owner of 1 houses.\n",
      "G. Bühl was the owner of 1 houses.\n",
      "B. Lindstadt was the owner of 1 houses.\n",
      "L. Wimmer was the owner of 1 houses.\n",
      "I. Grünerwald was the owner of 1 houses.\n",
      "H. Gebhardt was the owner of 1 houses.\n",
      "I und Bauunteruehiner was the owner of 1 houses.\n",
      "G. Beißer was the owner of 1 houses.\n",
      "H. Jörg was the owner of 1 houses.\n",
      "Chr was the owner of 1 houses.\n",
      "I. Preis was the owner of 1 houses.\n",
      "St. Diecke was the owner of 1 houses.\n",
      "M. Messerer was the owner of 1 houses.\n",
      "I. Schmidt was the owner of 1 houses.\n",
      "E. Hiegel was the owner of 1 houses.\n",
      "S. Seiferheld was the owner of 1 houses.\n",
      "F. Barthel was the owner of 1 houses.\n",
      "F. Klein was the owner of 1 houses.\n",
      "I Weinscheuk was the owner of 1 houses.\n",
      "W. Dehm was the owner of 1 houses.\n",
      "Wunderlich was the owner of 1 houses.\n",
      "H. Müller was the owner of 1 houses.\n",
      "Emilie was the owner of 1 houses.\n",
      "H. ta Durst was the owner of 1 houses.\n",
      "B. Löffler was the owner of 1 houses.\n",
      "M. Wießner was the owner of 1 houses.\n",
      "L. Schuh was the owner of 1 houses.\n",
      "Waschanstaltbesitzer und Dekateur was the owner of 1 houses.\n",
      "II. Börner was the owner of 1 houses.\n",
      "G. Frank was the owner of 1 houses.\n",
      "P. Wich was the owner of 1 houses.\n",
      "F. Müller was the owner of 1 houses.\n",
      "G. Wölfel was the owner of 1 houses.\n",
      "Zimmermstr was the owner of 1 houses.\n",
      "öauineistcr was the owner of 1 houses.\n",
      "I. Bauer was the owner of 1 houses.\n",
      "I. Lindenberger was the owner of 1 houses.\n",
      "Böckler was the owner of 1 houses.\n",
      "P. Schnitzler was the owner of 1 houses.\n",
      "nehmer was the owner of 1 houses.\n",
      "G. Teinlein was the owner of 1 houses.\n",
      "Dlessinggießerei was the owner of 1 houses.\n",
      "C. Kneffel was the owner of 1 houses.\n",
      "At. Schuster was the owner of 1 houses.\n",
      "O. Weigel was the owner of 1 houses.\n",
      "Al. Freitag was the owner of 1 houses.\n",
      "Inhaber was the owner of 1 houses.\n",
      "K. Rühl was the owner of 1 houses.\n",
      "Gebr vornn was the owner of 1 houses.\n",
      "A. Denzer was the owner of 1 houses.\n",
      "Hofmockel was the owner of 1 houses.\n",
      "M. Berg was the owner of 1 houses.\n",
      "Ch. Böckler was the owner of 1 houses.\n",
      "I. Rösch was the owner of 1 houses.\n",
      "ffrar u was the owner of 1 houses.\n",
      "I. Meyer was the owner of 1 houses.\n",
      "A Bühlmeier was the owner of 1 houses.\n",
      "G. Ros was the owner of 1 houses.\n",
      "B. Späth was the owner of 1 houses.\n",
      "I. May was the owner of 1 houses.\n",
      "I. Hüller was the owner of 1 houses.\n",
      "PH. Huck was the owner of 1 houses.\n",
      "P. Nopitscki was the owner of 1 houses.\n",
      "F. Bcerbaum was the owner of 1 houses.\n",
      "G. Stahl was the owner of 1 houses.\n",
      "Fr. Meier was the owner of 1 houses.\n",
      "F. Speier was the owner of 1 houses.\n",
      "Hack Kaufmannsw was the owner of 1 houses.\n",
      "H. Durst was the owner of 1 houses.\n",
      "F. Ackermann was the owner of 1 houses.\n",
      "G. Weisheit was the owner of 1 houses.\n",
      "H. lllrich was the owner of 1 houses.\n",
      "S. Kugler was the owner of 1 houses.\n",
      "L. Mezger was the owner of 1 houses.\n",
      "Th. LLieseler was the owner of 1 houses.\n",
      "spielwarenfabrikant was the owner of 1 houses.\n",
      "Kommerzienrat was the owner of 1 houses.\n",
      "G. Sucker was the owner of 1 houses.\n",
      "C. Nold was the owner of 1 houses.\n",
      "Tierarzt was the owner of 1 houses.\n",
      "A. Gutmann was the owner of 1 houses.\n",
      "Th. Habelt was the owner of 1 houses.\n",
      "G. Schmied was the owner of 1 houses.\n",
      "M. Sauer was the owner of 1 houses.\n",
      "F. Kramer was the owner of 1 houses.\n",
      "E. Saurer was the owner of 1 houses.\n",
      "E. Laurer was the owner of 1 houses.\n",
      "Lor. ter von was the owner of 1 houses.\n",
      "A lHeinkel was the owner of 1 houses.\n",
      "I. Sigling was the owner of 1 houses.\n",
      "A Nehrauer was the owner of 1 houses.\n",
      "A. Müller was the owner of 1 houses.\n",
      "K. Röß was the owner of 1 houses.\n",
      "A. Hösch was the owner of 1 houses.\n",
      "G. Vrölß was the owner of 1 houses.\n",
      "I. Büttner was the owner of 1 houses.\n",
      "K. Mayer was the owner of 1 houses.\n",
      "M Förster was the owner of 1 houses.\n",
      "Schwein was the owner of 1 houses.\n",
      "I. Heinrich was the owner of 1 houses.\n",
      "A. Paul was the owner of 1 houses.\n",
      "F. Dorsch was the owner of 1 houses.\n",
      "J Högner was the owner of 1 houses.\n",
      "K. Paul was the owner of 1 houses.\n",
      "F Pürkel was the owner of 1 houses.\n"
     ]
    }
   ],
   "source": [
    "owned_most_houses = '''\n",
    "PREFIX : <http://transraz/>\n",
    "PREFIX dbo: <http://dbpedia.org/ontology/>\n",
    "PREFIX foaf: <http://xmlns.com/foaf/0.1/>\n",
    "PREFIX transraz: <http://transraz/>\n",
    "PREFIX addressbook: <http://transraz/addressbook1908#>\n",
    "PREFIX rdf: <http://www.w3.org/1999/02/22-rdf-syntax-ns#>\n",
    "PREFIX rdfs: <http://www.w3.org/2000/01/rdf-schema#>\n",
    "\n",
    "SELECT ?p (COUNT (?p) as ?np)\n",
    "    WHERE {\n",
    "        ?person dbo:owner ?building .\n",
    "        ?person rdf:type dbo:Person .\n",
    "        ?person rdfs:label ?p .\n",
    "        ?building rdfs:label ?b .\n",
    "    } GROUP BY ?p\n",
    "    ORDER BY DESC (?np)\n",
    "'''\n",
    "for row in g.query(owned_most_houses):\n",
    "    print(f\"{row.p} was the owner of {row.np} houses.\")"
   ]
  },
  {
   "cell_type": "markdown",
   "metadata": {
    "id": "q4X4mezeWpbA"
   },
   "source": [
    "# QUERY 4 :How many inhabitants of Nuremberg were 'Schlosser/in'?"
   ]
  },
  {
   "cell_type": "code",
   "execution_count": null,
   "metadata": {
    "colab": {
     "base_uri": "https://localhost:8080/"
    },
    "executionInfo": {
     "elapsed": 351,
     "status": "ok",
     "timestamp": 1639576114772,
     "user": {
      "displayName": "Dewi K",
      "photoUrl": "https://lh3.googleusercontent.com/a/default-user=s64",
      "userId": "03606647171577901504"
     },
     "user_tz": -60
    },
    "id": "9by9eOhFEwOi",
    "outputId": "bcd73b7f-8fde-4c6f-be41-f1b2067bf278"
   },
   "outputs": [
    {
     "name": "stdout",
     "output_type": "stream",
     "text": [
      "1810 inhabitants of Nuremberg were 'Schlosser/in' as their profession\n"
     ]
    }
   ],
   "source": [
    "number_of_profession_occurence = '''\n",
    "PREFIX : <http://transraz/>\n",
    "PREFIX dbo: <http://www.dbpedia.org/ontology/>\n",
    "PREFIX foaf: <http://xmlns.com/foaf/0.1/>\n",
    "PREFIX transraz: <http://transraz/>\n",
    "PREFIX addressbook: <http://transraz/addressbook1908#>\n",
    "PREFIX rdf: <http://www.w3.org/1999/02/22-rdf-syntax-ns#>\n",
    "PREFIX rdfs: <http://www.w3.org/2000/01/rdf-schema#>\n",
    "\n",
    "SELECT ?normoccupation ?p (COUNT(?p) AS ?numperson)\n",
    "    WHERE{\n",
    "        ?p dbo:profession ?occupation .\n",
    "        ?occupation transraz:normalizedOccupation ?normoccupation .\n",
    "        ?normoccupation rdfs:label 'Schlosser/in' .\n",
    "    }\n",
    "'''\n",
    "for row in g.query(number_of_profession_occurence):\n",
    "    print(f\"{row.numperson} inhabitants of Nuremberg were 'Schlosser/in' as their profession\")"
   ]
  },
  {
   "cell_type": "markdown",
   "metadata": {
    "id": "yBfd5WaFihDC"
   },
   "source": [
    "# QUERY 5 : Which were the top 10 branches of the organizations of Nuremberg in 1908?"
   ]
  },
  {
   "cell_type": "code",
   "execution_count": null,
   "metadata": {
    "colab": {
     "base_uri": "https://localhost:8080/"
    },
    "executionInfo": {
     "elapsed": 603,
     "status": "ok",
     "timestamp": 1639579984899,
     "user": {
      "displayName": "Dewi K",
      "photoUrl": "https://lh3.googleusercontent.com/a/default-user=s64",
      "userId": "03606647171577901504"
     },
     "user_tz": -60
    },
    "id": "ZpyAiSD3ilR3",
    "outputId": "d90ba150-172c-4123-de35-501786a3095b"
   },
   "outputs": [
    {
     "name": "stdout",
     "output_type": "stream",
     "text": [
      "564 organizations in Nuremberg were Laden.\n",
      "305 organizations in Nuremberg were G.-L..\n",
      "97 organizations in Nuremberg were Brauerei.\n",
      "65 organizations in Nuremberg were A.-G..\n",
      "63 organizations in Nuremberg were Bank.\n",
      "58 organizations in Nuremberg were Fabrik.\n",
      "45 organizations in Nuremberg were Comptoir.\n",
      "45 organizations in Nuremberg were Brauerei A.-G..\n",
      "42 organizations in Nuremberg were Hopfenhandlung.\n",
      "39 organizations in Nuremberg were Bierbrauerei.\n"
     ]
    }
   ],
   "source": [
    "most_common_industry = '''\n",
    "PREFIX : <http://transraz/>\n",
    "PREFIX dbo: <http://www.dbpedia.org/ontology/>\n",
    "PREFIX foaf: <http://xmlns.com/foaf/0.1/>\n",
    "PREFIX transraz: <http://transraz/>\n",
    "PREFIX addressbook: <http://transraz/addressbook1908#>\n",
    "PREFIX rdf: <http://www.w3.org/1999/02/22-rdf-syntax-ns#>\n",
    "PREFIX rdfs: <http://www.w3.org/2000/01/rdf-schema#>\n",
    "\n",
    "SELECT ?i (COUNT (?i) as ?ni)\n",
    "    WHERE {\n",
    "        ?company rdf:type dbo:Organisation .\n",
    "        ?company transraz:branch ?industry .\n",
    "        ?industry rdfs:label ?i .\n",
    "    } GROUP BY ?i\n",
    "    ORDER BY DESC (?ni)\n",
    "    LIMIT 10\n",
    "'''\n",
    "for row in g.query(most_common_industry):\n",
    "    print(f\"{row.ni} organizations in Nuremberg were {row.i}.\")"
   ]
  },
  {
   "cell_type": "markdown",
   "metadata": {
    "id": "oq0vUmHUlq5D"
   },
   "source": [
    "# QUERY 6 : At which street lived most Privatiers?"
   ]
  },
  {
   "cell_type": "code",
   "execution_count": 15,
   "metadata": {
    "colab": {
     "base_uri": "https://localhost:8080/"
    },
    "executionInfo": {
     "elapsed": 1184,
     "status": "ok",
     "timestamp": 1640638367352,
     "user": {
      "displayName": "Dewi K",
      "photoUrl": "https://lh3.googleusercontent.com/a/default-user=s64",
      "userId": "03606647171577901504"
     },
     "user_tz": -60
    },
    "id": "Ld3SPs2xlzm_",
    "outputId": "85c8ae9e-a6b2-4a54-b01a-9ec5449df1b4"
   },
   "outputs": [
    {
     "name": "stdout",
     "output_type": "stream",
     "text": [
      "288 privatier(s) lived at Tetzelgasse.\n",
      "275 privatier(s) lived at Ludwigstraße.\n",
      "179 privatier(s) lived at Albrecht-Dürer-Straße.\n",
      "179 privatier(s) lived at Tuchgasse.\n",
      "149 privatier(s) lived at Mohrengasse.\n",
      "126 privatier(s) lived at Elisenstraße.\n",
      "121 privatier(s) lived at Karolinenstraße.\n",
      "121 privatier(s) lived at Obstgasse.\n",
      "121 privatier(s) lived at Färberstraße.\n",
      "120 privatier(s) lived at Weinmarkt.\n",
      "97 privatier(s) lived at Egidienplatz.\n",
      "92 privatier(s) lived at Lorenzerstraße.\n",
      "75 privatier(s) lived at Karlsbrücke.\n",
      "75 privatier(s) lived at Karlstraße.\n",
      "75 privatier(s) lived at Moltkestraße.\n",
      "70 privatier(s) lived at Paniersplatz.\n",
      "68 privatier(s) lived at Jahnstraße.\n",
      "68 privatier(s) lived at Johannesgasse.\n",
      "67 privatier(s) lived at Burgstraße.\n",
      "61 privatier(s) lived at Ottostraße.\n",
      "59 privatier(s) lived at Austraße.\n",
      "59 privatier(s) lived at Gibitzenhofstraße.\n",
      "59 privatier(s) lived at Haslerstraße.\n",
      "57 privatier(s) lived at Pfannenschmiedsgasse.\n",
      "50 privatier(s) lived at Schildgasse.\n",
      "50 privatier(s) lived at Augustinerstraße.\n",
      "48 privatier(s) lived at Kaiserstraße.\n",
      "40 privatier(s) lived at Lange Gasse.\n",
      "38 privatier(s) lived at Nonnengasse.\n",
      "38 privatier(s) lived at Spitalplatz.\n",
      "38 privatier(s) lived at Schlotfegergasse.\n",
      "33 privatier(s) lived at Maiengasse.\n",
      "33 privatier(s) lived at Hasstraße.\n",
      "33 privatier(s) lived at Schmausengasse.\n",
      "31 privatier(s) lived at Schieferstraße.\n",
      "30 privatier(s) lived at Troststraße.\n",
      "30 privatier(s) lived at Hauptmarkt.\n",
      "30 privatier(s) lived at Zollerstraße.\n",
      "28 privatier(s) lived at Judengasse.\n",
      "28 privatier(s) lived at Obstmarkt.\n",
      "28 privatier(s) lived at Wunderburggasse.\n",
      "28 privatier(s) lived at Peterstraße.\n",
      "28 privatier(s) lived at Königstraße.\n",
      "23 privatier(s) lived at Gugelstraße.\n",
      "22 privatier(s) lived at Willstraße.\n",
      "21 privatier(s) lived at Hillerstraße.\n",
      "19 privatier(s) lived at Maximilianstraße.\n",
      "15 privatier(s) lived at Himpfelshofstraße.\n",
      "15 privatier(s) lived at Hochstraße.\n",
      "15 privatier(s) lived at Hübnersplatz.\n",
      "15 privatier(s) lived at Idastraße.\n",
      "14 privatier(s) lived at Winklerstraße.\n",
      "9 privatier(s) lived at Alexanderstraße.\n",
      "9 privatier(s) lived at Allersberger Straße.\n",
      "9 privatier(s) lived at Waizenstraße.\n",
      "8 privatier(s) lived at Dötschmannsplatz.\n",
      "5 privatier(s) lived at Grünstraße.\n",
      "2 privatier(s) lived at Grübelstraße.\n",
      "2 privatier(s) lived at Kupferstraße.\n",
      "2 privatier(s) lived at Albrecht-Dürer-Platz.\n"
     ]
    }
   ],
   "source": [
    "addresses_of_Privatiers = '''\n",
    "PREFIX : <http://transraz/>\n",
    "PREFIX dbo: <http://dbpedia.org/ontology/>\n",
    "PREFIX foaf: <http://xmlns.com/foaf/0.1/>\n",
    "PREFIX transraz: <http://transraz/>\n",
    "PREFIX addressbook: <http://transraz/addressbook1908#>\n",
    "PREFIX rdf: <http://www.w3.org/1999/02/22-rdf-syntax-ns#>\n",
    "PREFIX rdfs: <http://www.w3.org/2000/01/rdf-schema#>\n",
    "\n",
    "SELECT ?a ?person (count(?person) as ?np)\n",
    "    WHERE {\n",
    "        ?person dbo:profession ?occupation .\n",
    "        ?occupation :normalizedOccupation ?normoccupation .\n",
    "        ?normoccupation rdfs:label \"Privatier/in\" .\n",
    "        ?person transraz:address ?address .\n",
    "        ?address transraz:isAddressOf  ?buildpartfloor .\n",
    "        ?buildpartfloor dbo:part ?buildpart .\n",
    "        ?buildpart dbo:part ?building .\n",
    "        ?building transraz:streetAddress ?street .\n",
    "        ?street transraz:normalizedStreet ?normstreet .\n",
    "        ?normstreet rdfs:label ?a .\n",
    "    } GROUP BY ?a\n",
    "    ORDER BY Desc (?np)\n",
    "'''\n",
    "for row in g.query(addresses_of_Privatiers):\n",
    "    print(f\"{row.np} privatier(s) lived at {row.a}.\")"
   ]
  },
  {
   "cell_type": "code",
   "execution_count": null,
   "metadata": {
    "id": "HCCTt8FwqLo4"
   },
   "outputs": [],
   "source": []
  }
 ],
 "metadata": {
  "colab": {
   "name": "SPARQL Queries.ipynb",
   "provenance": []
  },
  "kernelspec": {
   "display_name": "Python 3",
   "language": "python",
   "name": "python3"
  },
  "language_info": {
   "codemirror_mode": {
    "name": "ipython",
    "version": 3
   },
   "file_extension": ".py",
   "mimetype": "text/x-python",
   "name": "python",
   "nbconvert_exporter": "python",
   "pygments_lexer": "ipython3",
   "version": "3.7.6"
  }
 },
 "nbformat": 4,
 "nbformat_minor": 1
}
