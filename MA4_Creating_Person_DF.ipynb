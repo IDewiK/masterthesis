{
 "cells": [
  {
   "cell_type": "markdown",
   "metadata": {},
   "source": [
    "## Notebook 4: Creating Person DataFrame"
   ]
  },
  {
   "cell_type": "markdown",
   "metadata": {},
   "source": [
    "This Jupyter Notebook creates a Pandas DataFrame for the separated entries about persons."
   ]
  },
  {
   "cell_type": "markdown",
   "metadata": {},
   "source": [
    "### Import libraries\n",
    "\n",
    "1. **re**  - This is a library to process regular expressions. \n",
    "\n",
    "2. **Numpy** - Numpy is a library for the easy use of vectors, matrices or arrays in general. It simplifies various numerical operations. \n",
    "\n",
    "3. **Codecs** - This module provides access to the most common Python encoders and decoders for example to be used for text encoding.\n",
    "\n",
    "4. **Pandas** - Pandas is a library to analyze and to manage data. It is used to create tables.\n",
    "\n",
    "5. **NLTK** - This is a popular library to work with human language data. "
   ]
  },
  {
   "cell_type": "code",
   "execution_count": null,
   "metadata": {
    "colab": {
     "base_uri": "https://localhost:8080/"
    },
    "executionInfo": {
     "elapsed": 219,
     "status": "ok",
     "timestamp": 1637168821540,
     "user": {
      "displayName": "Dewi K",
      "photoUrl": "https://lh3.googleusercontent.com/a/default-user=s64",
      "userId": "03606647171577901504"
     },
     "user_tz": -60
    },
    "id": "StPgSnOrhkZJ",
    "outputId": "ec33cbbe-2651-4295-df55-57b1245f575a"
   },
   "outputs": [
    {
     "name": "stdout",
     "output_type": "stream",
     "text": [
      "Drive already mounted at /content/gdrive; to attempt to forcibly remount, call drive.mount(\"/content/gdrive\", force_remount=True).\n"
     ]
    }
   ],
   "source": [
    "# import statements\n",
    "import re\n",
    "import numpy\n",
    "import codecs\n",
    "import numpy as np\n",
    "import pandas as pd\n",
    "import nltk\n",
    "# from google.colab import drive \n",
    "# drive.mount('/content/gdrive')\n",
    "#import rdflib\n",
    "#from rdflib.namespace import RDF, RDFS\n",
    "#from rdflib import Literal\n",
    "#nltk.download('punkt')\n",
    "#-*- coding: utf-8 -*-"
   ]
  },
  {
   "cell_type": "markdown",
   "metadata": {},
   "source": [
    "## Open the current adress book"
   ]
  },
  {
   "cell_type": "code",
   "execution_count": null,
   "metadata": {
    "id": "K4ZY9MIDhkZK"
   },
   "outputs": [],
   "source": [
    "'''Opening the txt file only containing entries that got segmented as person entries'''\n",
    "filedir='./Outputs/2_persons1.txt'\n",
    "person_txt=codecs.open(filedir, \"r\", \"utf-8\")\n",
    "persons=person_txt.read()\n",
    "person_txt.close()\n",
    "\n",
    "person_entry_list = persons.split('\\r\\n')\n",
    "#person_entry_list"
   ]
  },
  {
   "cell_type": "markdown",
   "metadata": {},
   "source": [
    "## Creating the DataFrame with information about persons"
   ]
  },
  {
   "cell_type": "markdown",
   "metadata": {},
   "source": [
    "The DataFrame is created in several steps. First, separate lists with all the necessary information are extracted. When all the necessary information about persons are collected these lists are merged into a DataFrame. The DataFrame is later saved and extracted as a csv table."
   ]
  },
  {
   "cell_type": "code",
   "execution_count": null,
   "metadata": {
    "id": "dyTbLzr7hkZL",
    "scrolled": true
   },
   "outputs": [],
   "source": [
    "'''Identifying the HouseOwnership and adding True if a person \n",
    "is a houseowner and False if the person is not a house owner'''\n",
    "HouseOwnerSymbol = ['*']\n",
    "new = []\n",
    "\n",
    "for i in range(0, len(person_entry_list)):\n",
    "    if '*' in person_entry_list[i]:\n",
    "        person_entry_list[i] = person_entry_list[i][:] + ', True'\n",
    "        new.append(person_entry_list[i])\n",
    "    else:\n",
    "        person_entry_list[i] = person_entry_list[i][:] + ', False'\n",
    "        new.append(person_entry_list[i])\n",
    "\n",
    "person_entry_list = new\n",
    "\n",
    "person_entry = '\\r\\n'.join(new)\n",
    "#person_entry_list"
   ]
  },
  {
   "cell_type": "code",
   "execution_count": null,
   "metadata": {
    "id": "DXshxDmGhkZL"
   },
   "outputs": [],
   "source": [
    "'''Deleting the * symbol after adding \"True/False\" at the end of each entry'''\n",
    "person_entry = '\\r\\n'.join(new)\n",
    "#test = re.findall('\\*\\s', person_entry)\n",
    "person_entry = re.sub(r'\\*\\s', '', person_entry)\n",
    "person_entry = re.sub('(\\d+\\,)(\\s[A-ZÄÖÜa-zäöüß]+)\\.', r'\\1\\2,', person_entry)\n",
    "person_entry = re.sub('(\\d+\\,)(\\s[A-ZÄÖÜa-zäöüß]+)(\\s)([A-ZÄÖÜ])', r'\\1\\2,\\3\\4', person_entry)\n",
    "person_entry_list = person_entry.split('\\r\\n')\n",
    "#person_entry_list"
   ]
  },
  {
   "cell_type": "code",
   "execution_count": null,
   "metadata": {
    "id": "1PYsrrv9hkZM"
   },
   "outputs": [],
   "source": [
    "'''Creating list of street names as a basis for the dataframe'''\n",
    "person_entry_list = person_entry.split('\\r\\n')\n",
    "testlist = person_entry_list[:30]\n",
    "streetlist = []\n",
    "person_entry_wo_streets = [] #person list without street names\n",
    "\n",
    "for i in person_entry_list:\n",
    "    iSplit = i.split(', ')\n",
    "    streetlist.append(iSplit[0])\n",
    "    rest = ', '.join(iSplit[1:])\n",
    "    person_entry_wo_streets.append(rest)\n",
    "    #print(rest)\n",
    "#streetlist\n",
    "#person_entry_wo_streets"
   ]
  },
  {
   "cell_type": "code",
   "execution_count": null,
   "metadata": {
    "colab": {
     "base_uri": "https://localhost:8080/",
     "height": 424
    },
    "executionInfo": {
     "elapsed": 625,
     "status": "ok",
     "timestamp": 1637168823157,
     "user": {
      "displayName": "Dewi K",
      "photoUrl": "https://lh3.googleusercontent.com/a/default-user=s64",
      "userId": "03606647171577901504"
     },
     "user_tz": -60
    },
    "id": "U-0mIS5zhkZO",
    "outputId": "b560461d-c469-49d7-9baa-fb3a13438490"
   },
   "outputs": [],
   "source": [
    "'''Creating list of house numbers and adding the house numbers into the person_df'''\n",
    "#pd.set_option('max_columns', None)\n",
    "person_df = pd.DataFrame()\n",
    "person_df['House Number'] = ''\n",
    "\n",
    "housenumberList = []\n",
    "person_entry_wo_housenumber = [] #person list without street name and house number\n",
    "\n",
    "\n",
    "for i in person_entry_wo_streets:\n",
    "    iSplit = i.split(', ')\n",
    "    housenumberList.append(iSplit[0])\n",
    "    rest = ', '.join(iSplit[1:])\n",
    "    person_entry_wo_housenumber.append(rest)\n",
    "#person_df = pd.DataFrame({'Street': streetlist,'House Number': housenumberList})\n",
    "#person_df\n",
    "\n",
    "lastnameList = []\n",
    "person_entry_wo_lastname = [] #person list without street name, house number and last name\n",
    "\n",
    "for i in person_entry_wo_housenumber:\n",
    "    iSplit = re.split('\\. |\\, ', i)\n",
    "    lastnameList.append(iSplit[0])\n",
    "    rest = ', '.join(iSplit[1:])\n",
    "    person_entry_wo_lastname.append(rest)\n",
    "#person_df = pd.DataFrame({'Street': streetlist,'House Number': housenumberList, 'Last Name': lastnameList})    \n",
    "#person_df\n",
    "\n",
    "firstnameList = []\n",
    "person_entry_wo_name = [] #person list without street name, house number, last and first name\n",
    "\n",
    "for i in person_entry_wo_lastname:\n",
    "    iSplit = re.split(', ', i)\n",
    "    if len(iSplit[0]) < 5:\n",
    "        firstnameList.append(iSplit[0])\n",
    "        rest = ', '.join(iSplit[1:])\n",
    "    else:\n",
    "        firstnameList.append('')\n",
    "        rest = ', '.join(iSplit[0:])\n",
    "    person_entry_wo_name.append(rest)\n",
    "\n",
    "person_df = pd.DataFrame({'Street': streetlist,'House Number': housenumberList, 'LastName': lastnameList, 'FirstName': firstnameList})    \n",
    "person_df\n",
    "#person_entry_wo_housenumber"
   ]
  },
  {
   "cell_type": "code",
   "execution_count": null,
   "metadata": {
    "id": "oG82S1sGhkZR"
   },
   "outputs": [],
   "source": [
    "houseownerList = []\n",
    "person_entry_wo_name_owner = [] #person list without street name, house number, last and first name, True/False for House Owner\n",
    "\n",
    "for i in person_entry_wo_name:\n",
    "    iSplit = i.split(', ')\n",
    "    houseownerList.append(iSplit[-1])\n",
    "    rest = ' '.join(iSplit[:1])\n",
    "    person_entry_wo_name_owner.append(rest)\n",
    "\n",
    "person_df = pd.DataFrame({'Street': streetlist,'House Number': housenumberList, 'Last Name': lastnameList, 'First Name': firstnameList, 'House Owner': houseownerList})    \n",
    "#person_df\n",
    "#person_entry_wo_name_owner"
   ]
  },
  {
   "cell_type": "code",
   "execution_count": null,
   "metadata": {
    "colab": {
     "base_uri": "https://localhost:8080/"
    },
    "executionInfo": {
     "elapsed": 464,
     "status": "ok",
     "timestamp": 1637168823610,
     "user": {
      "displayName": "Dewi K",
      "photoUrl": "https://lh3.googleusercontent.com/a/default-user=s64",
      "userId": "03606647171577901504"
     },
     "user_tz": -60
    },
    "id": "sNn08pPchkZR",
    "outputId": "2e5e71aa-5368-41e1-8e8c-efc764b040ec"
   },
   "outputs": [],
   "source": [
    "floorList = []\n",
    "person_entry_occupation = [] #person list without street name, house number, last and first name, houseownership and house floor\n",
    "floors = ['0', 'I', 'II', 'III', 'IV', 'V', 'VI', 'VII', 'H0', 'HI', 'HII', 'HIII', 'HIV']\n",
    "\n",
    "for i in person_entry_wo_name_owner:\n",
    "    iSplit = str(i).split(' ')\n",
    "    if str(iSplit[-1]) in floors:\n",
    "        floorList.append(iSplit[-1])\n",
    "        if len(iSplit[:-1]) > 0:\n",
    "            rest = ' '.join(iSplit[:-1])\n",
    "        else:\n",
    "            rest = ' '\n",
    "    else:\n",
    "        floorList.append('')\n",
    "        rest = ' '.join(iSplit[0:])\n",
    "    person_entry_occupation.append(rest)\n",
    "\n",
    "#person_df = pd.DataFrame({'Street': streetlist,'House Number': housenumberList, 'House Floor Temp': floorList, 'House Owner': houseownerList, 'Last Name': lastnameList, 'First Name Abbreviation': firstnameList})      \n",
    "person_df = pd.DataFrame({'Street': streetlist,'House Number': housenumberList, 'House Floor Temp': floorList, 'House Owner': houseownerList, 'Last Name': lastnameList, 'First Name Abbreviation': firstnameList, 'Temp': person_entry_occupation})  \n",
    "#person_df.head(50)\n",
    "person_entry_occupation"
   ]
  },
  {
   "cell_type": "code",
   "execution_count": null,
   "metadata": {
    "colab": {
     "base_uri": "https://localhost:8080/",
     "height": 424
    },
    "executionInfo": {
     "elapsed": 1968,
     "status": "ok",
     "timestamp": 1637171023593,
     "user": {
      "displayName": "Dewi K",
      "photoUrl": "https://lh3.googleusercontent.com/a/default-user=s64",
      "userId": "03606647171577901504"
     },
     "user_tz": -60
    },
    "id": "Q7NU_1A3hkZS",
    "outputId": "cbf63c44-bc40-4ae7-e2a8-ecbdb84efa39"
   },
   "outputs": [],
   "source": [
    "# street_regex = r'([A-Za-zäöü\\-]*\\s*(straße|platz|gasse|weg|br[uü]cke|halle|markt)|[A-Za-zäöü\\-]*\\s*(Straße|Platz|Gasse|Weg|Br[uü]cke|Halle|Bahnlinie|Markt))'\n",
    "livingList = []\n",
    "livingStreetList = []\n",
    "livingHNList = []\n",
    "OccupationList = []\n",
    "SingleOccupation1 = []\n",
    "SingleOccupation2 = []\n",
    "SingleOccupation3 = []\n",
    "\n",
    "#looking for addresses in the entry. If address is found, it indicates the address of the house owner\n",
    "for i in person_entry_occupation:\n",
    "    living_match = re.search(r'(([A-Za-zäöüß\\-]*\\s*(str(\\.|aße)|platz|gasse|weg|br[uü]cke|halle|markt)|[A-Za-zäöüß\\-]*\\s*(Straße|Platz|Gasse|Weg|Br[uü]cke|Halle|Bahnlinie|Markt))\\s\\d+)', i)\n",
    "    if living_match:\n",
    "        livingList.append(living_match[0])\n",
    "    else:\n",
    "        livingList.append('')\n",
    "\n",
    "#for each location owner address, save owner house number in livingHNlist and owner street in livingStreetList    \n",
    "for i in livingList:\n",
    "    iSplit = i.split(' ')\n",
    "    if iSplit[-1].isdigit():\n",
    "        livingHNList.append(iSplit[-1])\n",
    "        rest = ' '.join(iSplit[:-1])\n",
    "    else:\n",
    "        livingHNList.append('')\n",
    "        rest = ' '.join(iSplit[0:])\n",
    "    livingStreetList.append(rest)\n",
    "\n",
    "#if a person has multiple occupations, separate these occupations in Occupation 1 and Occupation 2\n",
    "for i in person_entry_occupation:\n",
    "    occupations = re.sub(r'(([A-Za-zäöüß\\-]*\\s*(str(\\.|aße)|platz|gasse|weg|br[uü]cke|halle|markt)|[A-Za-zäöüß\\-]*\\s*(Straße|Platz|Gasse|Weg|Br[uü]cke|Halle|Bahnlinie|Markt))\\s\\d+)', '', i) #delete owner address from occupations\n",
    "    if len(occupations) > 0:\n",
    "        OccupationList.append(occupations)\n",
    "        SingleOccupation1.append('')\n",
    "        SingleOccupation2.append('')\n",
    "    else:\n",
    "        OccupationList.append('')\n",
    "        SingleOccupation1.append('')\n",
    "        SingleOccupation2.append('')\n",
    "    \n",
    "person_df = pd.DataFrame({'Street': streetlist,'House Number': housenumberList, 'House Floor Temp': floorList, 'House Owner': houseownerList, 'Last Name': lastnameList, 'First Name Abbreviation': firstnameList, 'Temp': person_entry_occupation, 'Full Owner Address': livingList, 'Owner Street': livingStreetList, 'Owner Number': livingHNList, 'Temp2': OccupationList, 'Occupation 1': SingleOccupation1, 'Occupation 2': SingleOccupation2})\n",
    "person_df.head(350)"
   ]
  },
  {
   "cell_type": "code",
   "execution_count": null,
   "metadata": {
    "colab": {
     "base_uri": "https://localhost:8080/",
     "height": 632
    },
    "executionInfo": {
     "elapsed": 2132,
     "status": "ok",
     "timestamp": 1637171026733,
     "user": {
      "displayName": "Dewi K",
      "photoUrl": "https://lh3.googleusercontent.com/a/default-user=s64",
      "userId": "03606647171577901504"
     },
     "user_tz": -60
    },
    "id": "WJtHuw9IhkZT",
    "outputId": "81a233de-fdf2-4434-c570-66a44f39743f"
   },
   "outputs": [],
   "source": [
    "#combine first and last name to full name\n",
    "person_df['Full Name'] = person_df['First Name Abbreviation'] + ' ' + person_df['Last Name']\n",
    "\n",
    "#extract additional information and delete in Occupation column\n",
    "person_df['Add Info'] = person_df['Temp2'].str.extract(r'(\\(.*?\\))', expand=False).str.strip()\n",
    "person_df['Occupation'] = person_df['Temp2'].str.replace(r'\\([^)]*\\)', '').str.strip()\n",
    "\n",
    "person_df['Occupation'] = person_df['Occupation'].str.replace(r'\\b(HIV|H(I){0,3}|H0|HO|O|0|U|M|W|IH|V|N|IV|(I){1,3}|m)\\b','')\n",
    "person_df['Occupation'] = person_df['Occupation'].str.replace(r'\\bu\\.\\b','und')\n",
    "#separate if multiple occupations are mentioned\n",
    "person_df['Occupation 1'] = person_df['Occupation'].str.extract(r'([A-ZÄÖÜ][a-zäöüß]*)\\sund\\s', expand=False).str.strip()\n",
    "person_df['Occupation 2'] = person_df['Occupation'].str.extract(r'[A-ZÄÖÜ][a-zäöüß]*\\sund\\s([A-ZÄÖÜ][a-zäöüß]*)', expand=False).str.strip()\n",
    "\n",
    "#separate House Floor from Building Part\n",
    "person_df['Part of House'] = np.where(person_df['House Floor Temp'].str.contains('H'), 'Hinterhaus', 'Vorderhaus')\n",
    "person_df['House Floor'] = np.where(person_df['House Floor Temp'].str.contains(r'\\b0\\b|H0\\b'), '0', \n",
    "                            np.where(person_df['House Floor Temp'].str.contains(r'\\bI\\b|HI\\b'), '1', \n",
    "                            np.where(person_df['House Floor Temp'].str.contains(r'\\bII\\b|HII\\b'), '2', \n",
    "                            np.where(person_df['House Floor Temp'].str.contains(r'\\bIII\\b|HIII\\b'), '3', \n",
    "                            np.where(person_df['House Floor Temp'].str.contains(r'\\bIV\\b|HIV\\b'), '4', \n",
    "                            np.where(person_df['House Floor Temp'].str.contains(r'\\bV\\b|HV\\b'), '5', ''))))))\n",
    "\n",
    "#Creating Building, BuildingPart, BuildingPartFloor and Full Address from already existing column\n",
    "person_df['Building'] = person_df['Street'] + ' ' + person_df['House Number']\n",
    "person_df['BuildingPart'] = person_df['Street'] + ' ' + person_df['House Number'] + ', ' + person_df['Part of House']\n",
    "person_df['BuildingPartFloor'] = person_df['Street'] + ' ' + person_df['House Number'] + ', ' + person_df['Part of House'] + ', ' + person_df['House Floor']\n",
    "person_df['BuildingPartFloor'] = person_df['BuildingPartFloor'].str.rstrip(' , ')\n",
    "person_df['Full Address'] = person_df['Street'] + ' ' + person_df['House Number'] + ', ' + person_df['Part of House'] + ', ' + person_df['House Floor']\n",
    "person_df['Full Address'] = person_df['Full Address'].str.rstrip(' , ')\n",
    "\n",
    "person_df.applymap(lambda x: x.rstrip() if type(x)==str else x)\n",
    "\n",
    "person_column_order = ['Full Name', 'Last Name', 'First Name Abbreviation', 'Occupation', 'Occupation 1', 'Occupation 2','Add Info', 'House Owner', 'Full Address', 'Street', 'House Number', 'Part of House', 'House Floor', 'Building', 'BuildingPart', 'BuildingPartFloor', 'Full Owner Address', 'Owner Street', 'Owner Number']\n",
    "person_df = person_df.reindex(columns=person_column_order)\n",
    "person_df.head(195)"
   ]
  },
  {
   "cell_type": "code",
   "execution_count": null,
   "metadata": {
    "id": "dbUWKtsHhkZU"
   },
   "outputs": [],
   "source": [
    "person_df.to_csv('./Outputs/2_person_df.csv', index=False)"
   ]
  }
 ],
 "metadata": {
  "colab": {
   "collapsed_sections": [],
   "name": "2_Creating_Person_DF_New.ipynb",
   "provenance": []
  },
  "kernelspec": {
   "display_name": "Python 3",
   "language": "python",
   "name": "python3"
  },
  "language_info": {
   "codemirror_mode": {
    "name": "ipython",
    "version": 3
   },
   "file_extension": ".py",
   "mimetype": "text/x-python",
   "name": "python",
   "nbconvert_exporter": "python",
   "pygments_lexer": "ipython3",
   "version": "3.7.6"
  }
 },
 "nbformat": 4,
 "nbformat_minor": 1
}
