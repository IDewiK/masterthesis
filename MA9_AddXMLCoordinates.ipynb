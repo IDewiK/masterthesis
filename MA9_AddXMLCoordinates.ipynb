{
 "cells": [
  {
   "cell_type": "markdown",
   "metadata": {},
   "source": [
    "## Notebook 9: Adding XML coordinates"
   ]
  },
  {
   "cell_type": "markdown",
   "metadata": {},
   "source": [
    "In this Notebook XML coordinates from the OCRed data are mapped to the DataFrames with persons and companies."
   ]
  },
  {
   "cell_type": "markdown",
   "metadata": {},
   "source": [
    "### Import libraries\n",
    "\n",
    "1. **re**  - This is a library to process regular expressions. \n",
    "\n",
    "2. **Numpy** - Numpy is a library for the easy use of vectors, matrices or arrays in general. It simplifies various numerical operations. \n",
    "\n",
    "3. **Codecs** - This module provides access to the most common Python encoders and decoders for example to be used for text encoding.\n",
    "\n",
    "4. **Pandas** - Pandas is a library to analyze and to manage data. It is used to create tables.\n",
    "\n",
    "5. **Os** - This enables a way to use the operating system."
   ]
  },
  {
   "cell_type": "code",
   "execution_count": 1,
   "metadata": {
    "colab": {
     "base_uri": "https://localhost:8080/"
    },
    "executionInfo": {
     "elapsed": 13745,
     "status": "ok",
     "timestamp": 1638966978797,
     "user": {
      "displayName": "Dewi K",
      "photoUrl": "https://lh3.googleusercontent.com/a/default-user=s64",
      "userId": "03606647171577901504"
     },
     "user_tz": -60
    },
    "id": "kmWiiS8gbdYB",
    "outputId": "8a029bcf-592c-4fde-8fc5-4a14080625cd"
   },
   "outputs": [
    {
     "name": "stdout",
     "output_type": "stream",
     "text": [
      "Mounted at /content/gdrive\n"
     ]
    }
   ],
   "source": [
    "# import statements\n",
    "import re\n",
    "import numpy\n",
    "import codecs\n",
    "import numpy as np\n",
    "import pandas as pd\n",
    "import os\n",
    "#import rdflib\n",
    "#from rdflib.namespace import RDF, RDFS\n",
    "#from rdflib import Literal\n",
    "#-*- coding: utf-8 -*-\n",
    "# from google.colab import drive \n",
    "# drive.mount('/content/gdrive')"
   ]
  },
  {
   "cell_type": "markdown",
   "metadata": {},
   "source": [
    "### Import data\n",
    "\n",
    "In addition to the DataFrames with person and company data, a csv with Coordinates is imported into a separate DataFrame."
   ]
  },
  {
   "cell_type": "code",
   "execution_count": 2,
   "metadata": {
    "executionInfo": {
     "elapsed": 2836,
     "status": "ok",
     "timestamp": 1638966981628,
     "user": {
      "displayName": "Dewi K",
      "photoUrl": "https://lh3.googleusercontent.com/a/default-user=s64",
      "userId": "03606647171577901504"
     },
     "user_tz": -60
    },
    "id": "aLjv2cXjbnjA"
   },
   "outputs": [],
   "source": [
    "#person_df = pd.read_csv('/Users/ilona-dewikusardi/Desktop/Datensets/F_23_92.jpg/2_normalized_person_df.csv', lineterminator='\\n')\n",
    "person_df = pd.read_csv('./Outputs/2_person_df_IRI.csv', lineterminator='\\n')\n",
    "person_df = person_df.fillna('')\n",
    "\n",
    "#company_df = pd.read_csv('/Users/ilona-dewikusardi/Desktop/Datensets/F_23_92.jpg/2_normalized_company_df.csv', lineterminator='\\n')\n",
    "company_df = pd.read_csv('./Outputs/2_company_df_IRI.csv', lineterminator='\\n')\n",
    "company_df = company_df.fillna('')\n",
    "\n",
    "coordinates_df = pd.read_csv('./Outputs/Coordinates_df.csv')\n",
    "\n",
    "#Creating a subset of the df for working\n",
    "df = person_df\n",
    "#df = person_df.iloc[0:1000]\n",
    "#company_df"
   ]
  },
  {
   "cell_type": "markdown",
   "metadata": {},
   "source": [
    "### Addition of the coordinates"
   ]
  },
  {
   "cell_type": "code",
   "execution_count": null,
   "metadata": {
    "colab": {
     "base_uri": "https://localhost:8080/",
     "height": 1000
    },
    "executionInfo": {
     "elapsed": 3372497,
     "status": "ok",
     "timestamp": 1638970354119,
     "user": {
      "displayName": "Dewi K",
      "photoUrl": "https://lh3.googleusercontent.com/a/default-user=s64",
      "userId": "03606647171577901504"
     },
     "user_tz": -60
    },
    "id": "6Una1Tu2cAjV",
    "outputId": "8f5ca3aa-a582-43c6-b5c3-787f872e3829"
   },
   "outputs": [],
   "source": [
    "'''Adding the coordinates from the XML files to the last name, streets and occupations'''\n",
    "df['Name_Coordinates'] = ''\n",
    "df['Occupation_Coordinates'] = ''\n",
    "df['Street_Coordinates'] = ''\n",
    "company_df['Street_Coordinates'] = ''\n",
    "\n",
    "def addCoordinates(table, column, coordinatesColumn, word, coordinates_df):\n",
    "    if word is not None:\n",
    "        word = word.strip()\n",
    "        if word in coordinates_df['Content'].values:\n",
    "            idx = np.where(coordinates_df['Content'] == word)[0][0]\n",
    "            table.loc[table[column] == (word), coordinatesColumn] = ('Page:'+ str(coordinates_df['Page'][idx])+ ', HEIGHT:'+ str(coordinates_df['Height'][idx])+', WIDTH:'+ str(coordinates_df['Width'][idx])+', VPOS:'+str(coordinates_df['VPOS'][idx])+', HPOS:'+str(coordinates_df['HPOS'][idx]))\n",
    "            return table\n",
    "        else:\n",
    "            return table\n",
    "\n",
    "for idxAdrBook, word in df['Last Name'].iteritems():\n",
    "    if word is not None:\n",
    "        word = str(word)\n",
    "        addCoordinates(df, 'Last Name', 'Name_Coordinates', word, coordinates_df)\n",
    "\n",
    "for idxAdrBook, word in df['Occupation'].iteritems():\n",
    "    if word is not None:\n",
    "        word = str(word)\n",
    "        addCoordinates(df, 'Occupation', 'Occupation_Coordinates', word, coordinates_df)\n",
    "\n",
    "for idxAdrBook, word in df['Street'].iteritems():\n",
    "    if word is not None:\n",
    "        word = str(word)\n",
    "        addCoordinates(df, 'Street', 'Street_Coordinates', word, coordinates_df)\n",
    "\n",
    "for idxAdrBook, word in company_df['Street'].iteritems():\n",
    "    if word is not None:\n",
    "        word = str(word)\n",
    "        addCoordinates(company_df, 'Street', 'Street_Coordinates', word, coordinates_df)\n",
    "\n",
    "df.head(50)"
   ]
  },
  {
   "cell_type": "code",
   "execution_count": 4,
   "metadata": {
    "executionInfo": {
     "elapsed": 3703,
     "status": "ok",
     "timestamp": 1638970357810,
     "user": {
      "displayName": "Dewi K",
      "photoUrl": "https://lh3.googleusercontent.com/a/default-user=s64",
      "userId": "03606647171577901504"
     },
     "user_tz": -60
    },
    "id": "Lj6qDoL3mWTj"
   },
   "outputs": [],
   "source": [
    "#Storing the final dfs\n",
    "df.to_csv('./Outputs/2_person_df_fin.csv', index=False)\n",
    "company_df.to_csv('./Outputs/2_company_df_fin.csv', index=False)\n"
   ]
  }
 ],
 "metadata": {
  "colab": {
   "authorship_tag": "ABX9TyMqZt+wA0QVOC8hWQUMQg6c",
   "mount_file_id": "1Uo-I_DO60BURPWJ3RyzC6x8U3f25eevX",
   "name": "Add_XML_Coordinates.ipynb",
   "provenance": []
  },
  "kernelspec": {
   "display_name": "Python 3",
   "language": "python",
   "name": "python3"
  },
  "language_info": {
   "codemirror_mode": {
    "name": "ipython",
    "version": 3
   },
   "file_extension": ".py",
   "mimetype": "text/x-python",
   "name": "python",
   "nbconvert_exporter": "python",
   "pygments_lexer": "ipython3",
   "version": "3.7.6"
  }
 },
 "nbformat": 4,
 "nbformat_minor": 1
}
