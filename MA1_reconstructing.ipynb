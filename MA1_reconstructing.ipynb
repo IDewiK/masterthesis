{
 "cells": [
  {
   "cell_type": "markdown",
   "metadata": {},
   "source": [
    "# Quality Assured Information Extraction from Historical Address Books for Knowledge Graph Construction\n",
    "Master Thesis by Ilona-Dewi Kusardi\n",
    "\n",
    "## Coding Section"
   ]
  },
  {
   "cell_type": "markdown",
   "metadata": {},
   "source": [
    "The following Jupyter Notebooks contain the practical part of the Master Thesis. The coding assignment is separated into several different Notebooks. Each Jupyter Notebook includes a separate coding step inbefore constructing the Knowledge Graph. Further details and descriptions of the performed steps are presented in the corresponding Juypter Notebooks."
   ]
  },
  {
   "cell_type": "markdown",
   "metadata": {},
   "source": [
    "## Notebook1: Reconstructing"
   ]
  },
  {
   "cell_type": "markdown",
   "metadata": {},
   "source": [
    "The following Jupyter Notebook includes the first practical part of the Master thesis. In this Notebook the OCR txt files are read and first corrections to the text are applied."
   ]
  },
  {
   "cell_type": "markdown",
   "metadata": {},
   "source": [
    "### Import libraries\n",
    "\n",
    "To begin all libraries that are necessary for the input and first corrections of the OCR are imported.\n",
    "\n",
    "1. **re**  - This is a library to process regular expressions. \n",
    "\n",
    "2. **Numpy** - Numpy is a library for the easy use of vectors, matrices or arrays in general. It simplifies various numerical operations. \n",
    "\n",
    "3. **Codecs** - This module provides access to the most common Python encoders and decoders for example to be used for text encoding.\n",
    "\n",
    "4. **Pandas** - Pandas is a library to analyze and to manage data. It is used to create tables.\n"
   ]
  },
  {
   "cell_type": "code",
   "execution_count": 5,
   "metadata": {
    "colab": {
     "base_uri": "https://localhost:8080/"
    },
    "executionInfo": {
     "elapsed": 22117,
     "status": "ok",
     "timestamp": 1636552242804,
     "user": {
      "displayName": "Dewi K",
      "photoUrl": "https://lh3.googleusercontent.com/a/default-user=s64",
      "userId": "03606647171577901504"
     },
     "user_tz": -60
    },
    "id": "fJ-r4BYQhIMH",
    "outputId": "802ec6e4-c25a-40e0-ce3e-0d453a59326c"
   },
   "outputs": [],
   "source": [
    "# import statements\n",
    "\n",
    "import re\n",
    "import numpy\n",
    "import codecs\n",
    "import numpy as np\n",
    "import pandas as pd\n",
    "\n",
    "# #-*- coding: utf-8 -*-\n",
    "# from google.colab import drive \n",
    "# drive.mount('/content/gdrive')"
   ]
  },
  {
   "cell_type": "markdown",
   "metadata": {},
   "source": [
    "### OCR File Input"
   ]
  },
  {
   "cell_type": "code",
   "execution_count": 13,
   "metadata": {
    "id": "ZxTi_ZWZhIML"
   },
   "outputs": [],
   "source": [
    "'''Importing all OCRed txt files'''\n",
    "def read_files(path, start=1, end=428):\n",
    "    ocr = []\n",
    "    for i in range(start, end):\n",
    "        if i < 10:\n",
    "            filedir=str(path) + \"F_23_92-00\" + str(i) + \".txt\"\n",
    "            bookpage=codecs.open(filedir, \"r\", 'utf-8-sig')\n",
    "            page_content=bookpage.read()\n",
    "            bookpage.close()\n",
    "            ocr.append(page_content)\n",
    "        elif i < 100:\n",
    "            filedir=str(path) + \"F_23_92-0\" + str(i) + \".txt\"\n",
    "            bookpage=codecs.open(filedir, \"r\", 'utf-8-sig')\n",
    "            page_content=bookpage.read()\n",
    "            bookpage.close()\n",
    "            ocr.append(page_content)\n",
    "        else:\n",
    "            filedir=str(path) + \"F_23_92-\" + str(i) + \".txt\"\n",
    "            bookpage=codecs.open(filedir, \"r\", 'utf-8-sig')\n",
    "            page_content=bookpage.read()\n",
    "            bookpage.close()\n",
    "            ocr.append(page_content)\n",
    "    return ocr\n",
    "\n",
    "# read in files\n",
    "#ocr = read_files(\"/Users/ilona-dewikusardi/Desktop/Datensets/F_23_92.jpg/F_23_92.jpg_txt/\", start=1, end=428)\n",
    "ocr = read_files(\"./files/F_23_92.jpg/F_23_92.jpg_txt/\", start=1, end=428)\n",
    "# delete first lines of first page with entries because these lines do not contain any address book entries\n",
    "ocr[0] = ocr[0].split('\\r\\n',26)[26:][0]"
   ]
  },
  {
   "cell_type": "markdown",
   "metadata": {},
   "source": [
    "### Corrections in the OCR"
   ]
  },
  {
   "cell_type": "code",
   "execution_count": null,
   "metadata": {
    "colab": {
     "base_uri": "https://localhost:8080/",
     "height": 137,
     "output_embedded_package_id": "1qqDgrzWglQRYPXftqhaKBJ5_ZxtoIyoE"
    },
    "executionInfo": {
     "elapsed": 7087,
     "status": "ok",
     "timestamp": 1636552353148,
     "user": {
      "displayName": "Dewi K",
      "photoUrl": "https://lh3.googleusercontent.com/a/default-user=s64",
      "userId": "03606647171577901504"
     },
     "user_tz": -60
    },
    "id": "eM6nBpgXhIMN",
    "outputId": "f4133f10-b3b5-42e9-ad17-8108c348b8ff"
   },
   "outputs": [
    {
     "data": {
      "text/plain": [
       "Output hidden; open in https://colab.research.google.com to view."
      ]
     },
     "metadata": {},
     "output_type": "display_data"
    }
   ],
   "source": [
    "'''delete lines only consisting of numbers or only name ranges or empty lines'''\n",
    "# also delete if 'Stadtarchiv Nürnberg ...' is scanned\n",
    "\n",
    "for i in range(0, len(ocr)):\n",
    "    ocr[i] = ocr[i].replace('—', '-')\n",
    "\n",
    "\n",
    "indexes_to_pop_outer = []\n",
    "for i in range(0, len(ocr)):\n",
    "    # check if string has more than one line\n",
    "    ocr[i] = ocr[i].split('\\r\\n')\n",
    "    if len(ocr[i]) > 1:\n",
    "        # check for empty lines and whether Stadtarchiv Nürnberg ... was scanned as well or whether line contains \"siehe\"\n",
    "        indexes_to_pop_inner = []\n",
    "        for j in range(0, len(ocr[i])):\n",
    "            if (ocr[i][j] == \"\") or (ocr[i][j] == \" \"):\n",
    "                indexes_to_pop_inner.append(j)\n",
    "                continue\n",
    "        \n",
    "                \n",
    "            # if does only contain letter and potentially a period\n",
    "            match = re.search('^[\\s]*([A-GJKP-UW-Z]{1}[\\.]{0,1}[\\s]*){1}$', ocr[i][j])\n",
    "            if match:\n",
    "                indexes_to_pop_inner.append(j)\n",
    "                continue\n",
    "            \n",
    "            # if does only contain letter and potentially a period\n",
    "            match = re.search('[Ss]iehe', ocr[i][j])\n",
    "            if match:\n",
    "                indexes_to_pop_inner.append(j)\n",
    "                continue\n",
    "                \n",
    "        indexes_to_pop_inner.sort(reverse=True)\n",
    "        if indexes_to_pop_inner is not None:\n",
    "            for index in indexes_to_pop_inner:\n",
    "                ocr[i].pop(index)\n",
    "        \n",
    "        # delete if first line is only a number (page number)\n",
    "        match = re.search('[\\s]*[\\d]{1,}[S]{0,1}[\\d]{1,}[\\s]*$', ocr[i][0])\n",
    "        if match:\n",
    "            ocr[i].pop(0)\n",
    "            \n",
    "        # delete if first line os only namerange of entries on page\n",
    "        match = re.search('([A-Za-zäöü\\-]*\\s*(straße|platz|gasse|weg|br[uü]cke|halle|markt)|[A-Za-zäöü\\-]*\\s*(Straße|Platz|Gasse|Weg|Br[uü]cke|Halle|Bahnlinie|Markt))', ocr[i][0])\n",
    "        if match:\n",
    "            ocr[i].pop(0)\n",
    "            \n",
    "        # delete again if first line is only a number (page number)\n",
    "        match = re.search('[\\s]*[\\d]{1,}[S]{0,1}[\\d]{1,}[\\s]*$', ocr[i][0])\n",
    "        if match:\n",
    "            ocr[i].pop(0)\n",
    "        \n",
    "        # delete if line begins with space\n",
    "        for j in range(0, len(ocr[i])):\n",
    "            ocr[i][j] = ocr[i][j].lstrip()\n",
    "    else:\n",
    "        indexes_to_pop_outer.append(i)\n",
    "        \n",
    "    # delete last two lines of last page because these only include information on printing\n",
    "    if i == len(ocr) - 1:\n",
    "        ocr[i] = ocr[i][0:-4]\n",
    "    ocr[i] = '\\r\\n'.join(ocr[i])\n",
    "if indexes_to_pop_outer is not None:\n",
    "    for index in indexes_to_pop_outer:\n",
    "        ocr.pop(index)\n",
    "    \n",
    "# make it one big text file\n",
    "address_book = '\\r\\n'.join(ocr)\n",
    "address_book"
   ]
  },
  {
   "cell_type": "code",
   "execution_count": null,
   "metadata": {
    "colab": {
     "base_uri": "https://localhost:8080/"
    },
    "executionInfo": {
     "elapsed": 426,
     "status": "ok",
     "timestamp": 1636552353149,
     "user": {
      "displayName": "Dewi K",
      "photoUrl": "https://lh3.googleusercontent.com/a/default-user=s64",
      "userId": "03606647171577901504"
     },
     "user_tz": -60
    },
    "id": "ElqrGNEvhIMP",
    "outputId": "73c27e2f-ddb5-4ac0-f692-2495b89e42ce"
   },
   "outputs": [],
   "source": [
    "# get rid of linebreaks amid entries\n",
    "# next line starting with straße, gasse or platz --> delete linebreaks\n",
    "\n",
    "address_book = address_book.replace(\"\\r\\nstraße\" , \"straße\")\n",
    "address_book = address_book.replace(\"\\r\\nStraße\" , \"Straße\")\n",
    "address_book = address_book.replace(\"\\r\\ngasse\" , \"gasse\")\n",
    "address_book = address_book.replace(\"\\r\\nGasse\" , \"Gasse\")\n",
    "address_book = address_book.replace(\"\\r\\nplatz\" , \"platz\")\n",
    "address_book = address_book.replace(\"\\r\\nPlatz\" , \"Platz\")\n",
    "address_book = address_book.replace('\\r\\nweg' , 'weg')\n",
    "address_book = address_book.replace('\\r\\nWeg' , 'Weg')\n",
    "address_book = address_book.replace('\\r\\nbr[uü]cke' , 'brücke')\n",
    "address_book = address_book.replace('\\r\\nBr[uü]cke' , 'Brücke')\n",
    "address_book = address_book.replace('\\r\\nmarkt' , 'markt')\n",
    "address_book = address_book.replace('\\r\\nMarkt' , 'Markt')\n",
    "\n",
    "address_book_list = address_book.split('\\r\\n')\n",
    "address_book_list"
   ]
  },
  {
   "cell_type": "code",
   "execution_count": null,
   "metadata": {
    "colab": {
     "base_uri": "https://localhost:8080/"
    },
    "executionInfo": {
     "elapsed": 118,
     "status": "ok",
     "timestamp": 1636552353149,
     "user": {
      "displayName": "Dewi K",
      "photoUrl": "https://lh3.googleusercontent.com/a/default-user=s64",
      "userId": "03606647171577901504"
     },
     "user_tz": -60
    },
    "id": "yuz5-lUMhIMQ",
    "outputId": "d8a9ba35-9458-4874-d684-9b1311a48110",
    "scrolled": true
   },
   "outputs": [],
   "source": [
    "# delete linebreak when lines begin with complete street name\n",
    "# when previous line ends with :\n",
    "address_book=re.sub(r'\\:\\s*\\r\\n', r': ', address_book)\n",
    "\n",
    "# when previous line ends with ,\n",
    "address_book=re.sub(r'\\,\\r\\n', r', ', address_book) \n",
    "\n",
    "# when previous line ends with .\n",
    "#address_book=re.sub(r'\\.\\s*\\r\\n(\\s*([A-Z][a-zßöäüA-ZÖÄÜ\\s\\-\\.\\,]+)[^\\d+])', r'. \\1', address_book)\n",
    "# when previous line ends with -\n",
    "address_book=re.sub(r'\\-\\r\\n', r'', address_book)\n",
    "\n",
    "\n",
    "#If line starts with , replace it with (\n",
    "address_book = re.sub(r'(\\r\\n)(\\,|\\^)(.*)\\)(.*\\r\\n)', r'\\1(\\3)\\4', address_book)\n",
    "\n",
    "# when next line begins with parenthesis\n",
    "address_book=re.sub(r'\\r\\n\\s*\\((.*\\s*([A-Z][a-zßöäüA-ZÖÄÜ\\s\\-\\.]+)\\s*)', r' (\\1', address_book)\n",
    "\n",
    "# when previous line ends with u. or und\n",
    "address_book=re.sub(r'\\b(u\\.)\\s*\\r\\n', r'und ', address_book)\n",
    "address_book=re.sub(r'(und)\\s*\\r\\n(\\s*([A-Z]*[a-zßöäüA-ZÖÄÜ\\s\\-\\.])*\\s*([1-9I]*[0-9]*\\s*[a-mo-tvz]*))', r'\\1 \\2', address_book)\n",
    "\n",
    "# when next line begins with u./und/zur/en\n",
    "address_book=re.sub(r'\\r\\n(und|u\\.|en|zur)\\s*(([A-Z]*[a-zßöäüA-ZÖÄÜ\\s\\-\\.]+)\\s*)', r' \\1 \\2', address_book)\n",
    "\n",
    "# when previous line ends with im/in/aus/zu/zum/zur/der/für/am\n",
    "address_book=re.sub(r'\\b(im|in|aus|zu|zum|zur|der|f[uü]r|appr)\\b\\.*\\s*\\r\\n([A-ZÄÖÜ][a-zäöü][0-9]\\^\\,\\-)*', r' \\1 \\2', address_book)\n",
    "\n",
    "#delete lines containing Einmündung/1908\n",
    "address_book=re.sub(r'(\\r\\n).*(Einm(ü|il)(n|N)d(ung)|1908).*\\r\\n', r' \\1', address_book)\n",
    "\n",
    "#delete lines beginning with Bei/Bei/Zw.\n",
    "address_book=re.sub(r'^(Bei|Bel|Bci|Zw|Aw|Zwischen)\\b.*\\r\\n', r'', address_book)\n",
    "\n",
    "address_book_list = address_book.split('\\r\\n')\n",
    "address_book_list"
   ]
  },
  {
   "cell_type": "code",
   "execution_count": null,
   "metadata": {
    "colab": {
     "base_uri": "https://localhost:8080/"
    },
    "executionInfo": {
     "elapsed": 48,
     "status": "ok",
     "timestamp": 1636552353150,
     "user": {
      "displayName": "Dewi K",
      "photoUrl": "https://lh3.googleusercontent.com/a/default-user=s64",
      "userId": "03606647171577901504"
     },
     "user_tz": -60
    },
    "id": "-OcnlpNPhIMR",
    "outputId": "73768495-1961-490c-aa70-6081ca81c9b6"
   },
   "outputs": [],
   "source": [
    "#Replace common mistakes from OCR\n",
    "#Replace tab with space\n",
    "address_book = re.sub(r'\\t', r' ', address_book)\n",
    "#Delete empty lines\n",
    "address_book = re.sub(r'(\\r\\n)\\s*\\r\\n', r'\\1', address_book)\n",
    "#Delete multiple - to one -\n",
    "address_book = re.sub(r'\\-+', '-', address_book)\n",
    "#Delete lines with 5 or less characters\n",
    "address_book = re.sub('(\\r\\n)[A-za-z\\s\\-\\*\\.\\,\\']{0,5}(\\r\\n)', '\\g<1>', address_book)\n",
    "#Delete lines without alphabetical or numeral characters\n",
    "address_book = re.sub(r'(\\r\\n)[0.,\\s\\_\\-]*\\r\\n', r'\\1', address_book)\n",
    "#Replace « and » with *\n",
    "address_book = re.sub(r'(\\d+)\\s*(\\«)\\s*(\\w)', r'\\1 * \\3', address_book)\n",
    "address_book = re.sub(r'(\\d+)\\s*(\\»)\\s*(\\w)', r'\\1 * \\3', address_book)\n",
    "\n",
    "#Replace \" with * \n",
    "address_book = re.sub(r'(\\r\\n)\\\"', r'\\1* ', address_book)\n",
    "#Replace \" with * if its after a house number\n",
    "address_book = re.sub(r'(\\r\\n)(\\d+)\\s(\\\"|\\')', r'\\1\\2 * ', address_book)\n",
    "address_book = re.sub(r'(\\r\\n)(\\d+)([a-f]{1})\\s(\\\"|\\')', r'\\1\\2\\3 * ', address_book)\n",
    "#If line starts with , replace it with (\n",
    "address_book = re.sub(r'(\\r\\n)(\\,|\\^)', r'\\1(', address_book)\n",
    "#Replace -, with ., if it's not at beginning of line\n",
    "address_book = re.sub(r'\\b([A-ZÄÖÜ]{1,2})\\-(\\,|\\s+)\\s*', r'\\1., ', address_book)\n",
    "#Delete characters infront of * if not a number or white space at beginning of line\n",
    "address_book = re.sub(r'^([^0-9]{1,10})(\\s)*\\*\\s*(.*)', r'* \\3', address_book)\n",
    "#Delete symbols\n",
    "address_book = re.sub(r'(\\'|\\`|\\<|\\>|\\«|\\»|\\„|\\^|\\°|\\!|\\?|\\§|\\\"|\\/)', '', address_book)\n",
    "#delete everything at beginning of line thats not Word, *, ( or -\n",
    "address_book = re.sub(r'^[^0-9A-ZÄÖÜa-zäöüß*(-]*', '', address_book)\n",
    "\n",
    "#repeat deleting after -,:\n",
    "address_book=re.sub(r'(\\:|\\,|\\-)\\s*\\r\\n', r'\\1 ', address_book)\n",
    "address_book_list = address_book.split('\\r\\n')\n",
    "address_book_list"
   ]
  },
  {
   "cell_type": "code",
   "execution_count": null,
   "metadata": {
    "colab": {
     "base_uri": "https://localhost:8080/"
    },
    "executionInfo": {
     "elapsed": 540,
     "status": "ok",
     "timestamp": 1636552353680,
     "user": {
      "displayName": "Dewi K",
      "photoUrl": "https://lh3.googleusercontent.com/a/default-user=s64",
      "userId": "03606647171577901504"
     },
     "user_tz": -60
    },
    "id": "7Y3CASpRhIMS",
    "outputId": "3bfdb85f-dcb5-4d39-e4c2-730463ef74d9"
   },
   "outputs": [],
   "source": [
    "#Correcting common mistakes with Straße/Gasse/Brücke\n",
    "address_book = re.sub('[SL ](tratze|traf\\;e|traize|trasze|trake|trahe)', 'Straße', address_book)\n",
    "address_book = re.sub('[sf ](tratz|traf\\;|traf|traiz|trasz|trak|trab|trah)[ace]', 'straße', address_book)\n",
    "address_book = re.sub('(G|g){1}(affe)', '\\1asse', address_book)\n",
    "address_book = re.sub('(B|b){1}(rucke)', '\\1rücke', address_book)\n",
    "#Delete linebreak if new line starts with address\n",
    "address_book = re.sub(r'\\r\\n([A-Z]?[a-zäöü\\-]*\\s*[A-Z]*[a-zäöü\\-]*\\s*(straße|str\\.|platz|gasse|weg|br[uü]cke|halle|markt)|[A-Z]?[a-zäöü\\-]+\\s*[A-Z]*[a-zäöü\\-]*\\s*(Straße|Platz|Gasse|Weg|Br[uü]cke|Halle|Bahnlinie|Markt))', r' \\1', address_book)\n",
    "#Delete linebreak if new line starts with vorm. or en or Gesamtgeschlecht or Brauerei\n",
    "address_book = re.sub(r'\\r\\n(vorm\\.?|en\\b|Ge[ls]{1}amtgeschlecht|Brauerei)', r' \\1', address_book)\n",
    "\n",
    "address_book_list = address_book.split(\"\\r\\n\")\n",
    "address_book_list"
   ]
  },
  {
   "cell_type": "code",
   "execution_count": null,
   "metadata": {
    "colab": {
     "base_uri": "https://localhost:8080/"
    },
    "executionInfo": {
     "elapsed": 102,
     "status": "ok",
     "timestamp": 1636552353681,
     "user": {
      "displayName": "Dewi K",
      "photoUrl": "https://lh3.googleusercontent.com/a/default-user=s64",
      "userId": "03606647171577901504"
     },
     "user_tz": -60
    },
    "id": "y4U-1HEHhIMT",
    "outputId": "d66c4a31-f089-43ba-9948-7a6d5bbdbd38"
   },
   "outputs": [],
   "source": [
    "#delete lines with Einmündung \n",
    "address_book = re.sub('(\\r\\n).*Einm(ü|il)(n|N)d(ung).*\\r\\n', r'\\1', address_book)\n",
    "#Delete lines with zwischen -> Later, to not lose Street names\n",
    "#address_book = re.sub('(\\r\\n)[Zz]w(ischen)*\\b.*\\r\\n', r'\\1', address_book)\n",
    "#Delete lines starting with Bei\n",
    "address_book = re.sub('(\\r\\n)Bei\\b.*\\r\\n', r'\\1', address_book)\n",
    "#Delete lines with 1908\n",
    "address_book = re.sub('(\\r\\n).*1908.*\\r\\n', r'\\1', address_book)\n",
    "#Delete lines ending with 92\n",
    "address_book = re.sub('(\\r\\n).*\\s92\\r\\n', r'\\1', address_book)\n",
    "\n",
    "address_book_list = address_book.split('\\r\\n')\n",
    "address_book_list"
   ]
  },
  {
   "cell_type": "code",
   "execution_count": null,
   "metadata": {
    "colab": {
     "base_uri": "https://localhost:8080/"
    },
    "executionInfo": {
     "elapsed": 634,
     "status": "ok",
     "timestamp": 1636552354310,
     "user": {
      "displayName": "Dewi K",
      "photoUrl": "https://lh3.googleusercontent.com/a/default-user=s64",
      "userId": "03606647171577901504"
     },
     "user_tz": -60
    },
    "id": "jGhhG1XphIMT",
    "outputId": "4f0dbbda-4d10-4c1f-ce64-a05bae0c91d6",
    "scrolled": true
   },
   "outputs": [],
   "source": [
    "'''Adding whitespace after * or , if missing as \n",
    "preparation for entry component separation later on'''\n",
    "#Add space after *\n",
    "address_book = re.sub(r'(\\*|\\,)([^\\s])', r'\\1 \\2', address_book)\n",
    "address_book = re.sub(r'(\\*|\\,)(\\w)', r'\\1 \\2', address_book)\n",
    "#Add space after .\n",
    "#address_book = re.sub(r'(\\.)([^\\s\\,\\-])', r'\\1 \\2', address_book) #?\n",
    "address_book = re.sub(r'(\\.)(\\w)', r'\\1 \\2', address_book)\n",
    "#Add space infront of *\n",
    "address_book = re.sub(r'([^(\\s|\\n)])(\\*)', r'\\1 \\2', address_book)\n",
    "address_book = re.sub(r'(\\r\\n)\\s*(\\*)', r'\\1\\2', address_book)\n",
    "\n",
    "#Delete opening parenthesis, if no closing parenthesis is in same line\n",
    "address_book = re.sub(r'(\\r\\n)(.*)(\\()([^(\\)|\\n)]+)(\\r\\n)', r'\\1\\2\\4\\5', address_book)\n",
    "#Deleting closing parentheses, if no opening parenthesis in same line\n",
    "address_book = re.sub(r'(\\r\\n)([^(\\n]+)(\\))(.*)(\\r\\n)', r'\\1\\2\\4\\5', address_book)\n",
    "#Insert missing white spaces if capital letters occur in the middle of a word\n",
    "address_book = re.sub(r'([a-zäöüß]{3,})([A-ZÄÖÜ])([a-zäöüß]{3,})', r'\\1 \\2\\3', address_book) #([a-zäöüß])([A-ZÄÖÜ])+([a-zäöüß]{3,}|\\b|\\.|\\,)\n",
    "address_book = re.sub(r'([a-zäöüß]{3,})([A-ZÄÖÜ])([\\.\\,]+)', r'\\1, \\2\\3', address_book)\n",
    "#No line starting with space\n",
    "address_book = re.sub(r'(\\r\\n)\\s*', r'\\1', address_book)\n",
    "#if line starts with House Floor\n",
    "address_book = re.sub(r'(\\r\\n)(II|IV)\\s*', r'\\1', address_book)\n",
    "\n",
    "address_book_list = address_book.split('\\r\\n')\n",
    "address_book_list"
   ]
  },
  {
   "cell_type": "code",
   "execution_count": null,
   "metadata": {
    "id": "wKYqm1TJhIMW"
   },
   "outputs": [],
   "source": [
    "'''Adding missing last Names at the beginning of a line.\n",
    "This needs to be done before the house number and street name are added!'''\n",
    "address_book_list = address_book.split('\\r\\n')\n",
    "\n",
    "new_address_book_list = []\n",
    "current = ''\n",
    "\n",
    "for entry in address_book_list:\n",
    "    entryComponents = entry.split(' ')\n",
    "    lastName = entryComponents[0]\n",
    "    first_character_i = lastName[0]\n",
    "    #print(first_character_i)\n",
    "#    if ord(first_character_i) != 45:\n",
    "#        current = str(lastName)\n",
    "    if ord(first_character_i) in range(65,122):\n",
    "        current = str(lastName)\n",
    "    elif ord(first_character_i) in range(0,44):\n",
    "        current = str(lastName)\n",
    "    elif ord(first_character_i) == 45:\n",
    "        entry = str(current) + entry[1:]\n",
    "    new_address_book_list.append(entry)\n",
    "address_book = '\\r\\n'.join(new_address_book_list)\n",
    "with open('./Outputs/2_recon_test.txt', 'w') as fw:\n",
    "    fw.write(address_book)"
   ]
  },
  {
   "cell_type": "code",
   "execution_count": null,
   "metadata": {
    "colab": {
     "base_uri": "https://localhost:8080/"
    },
    "executionInfo": {
     "elapsed": 2311,
     "status": "ok",
     "timestamp": 1636552357157,
     "user": {
      "displayName": "Dewi K",
      "photoUrl": "https://lh3.googleusercontent.com/a/default-user=s64",
      "userId": "03606647171577901504"
     },
     "user_tz": -60
    },
    "id": "FUTzz6DFhIMX",
    "outputId": "7a04569e-f714-4798-dbae-62a1cb571baa"
   },
   "outputs": [],
   "source": [
    "'''Correcting common house floor mistakes'''\n",
    "address_book = re.sub(r'([a-zäöüß]{2,})([HIV0oO1Nl]{2,})\\b', r'\\1 \\2', address_book)\n",
    "address_book = re.sub(r'([a-zäöüß]{2,})([HIV01NO])\\b', r'\\1 \\2', address_book)\n",
    "address_book = re.sub(r'\\b[0oO]\\b(\\r\\n)', r'0\\1', address_book)\n",
    "address_book = re.sub(r'\\b[Ili1]\\b(\\r\\n)', r'I\\1', address_book)\n",
    "address_book = re.sub(r'\\b(N|U|[Il1i]{2})\\b', r'II', address_book)\n",
    "address_book = re.sub(r'\\b([NU][I1li]{1}|[Il1i]{3}|IH)\\b(\\r\\n)', r'III\\2', address_book)\n",
    "address_book = re.sub(r'\\b[i1lI][NVv]\\b', r'IV', address_book)\n",
    "address_book = re.sub(r'\\b(H[0oO])\\b(\\r\\n)', r'H0\\2', address_book)\n",
    "address_book = re.sub(r'\\b(H[i1lI]{1})\\b(\\r\\n)', r'HI\\2', address_book)\n",
    "address_book = re.sub(r'\\b(H[i1lI]{2}|HN|HU)\\b(\\r\\n)', r'HII\\2', address_book)\n",
    "address_book = re.sub(r'\\b(H[i1lI]{3}|HIH)\\b(\\r\\n)', r'HIII\\2', address_book)\n",
    "address_book = re.sub(r'\\b(H[i1lI]{1}V)\\b(\\r\\n)', r'HIV\\2', address_book)\n",
    "\n",
    "with open('./Outputs/2_recon_new_address_book.txt', 'w') as fw:\n",
    "    fw.write(address_book)\n",
    "    \n",
    "address_book_list = address_book.split('\\r\\n')\n",
    "address_book_list"
   ]
  }
 ],
 "metadata": {
  "colab": {
   "collapsed_sections": [],
   "name": "2_reconstructing.ipynb",
   "provenance": []
  },
  "kernelspec": {
   "display_name": "Python 3",
   "language": "python",
   "name": "python3"
  },
  "language_info": {
   "codemirror_mode": {
    "name": "ipython",
    "version": 3
   },
   "file_extension": ".py",
   "mimetype": "text/x-python",
   "name": "python",
   "nbconvert_exporter": "python",
   "pygments_lexer": "ipython3",
   "version": "3.7.6"
  }
 },
 "nbformat": 4,
 "nbformat_minor": 1
}
