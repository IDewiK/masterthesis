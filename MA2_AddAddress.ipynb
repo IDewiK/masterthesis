{
 "cells": [
  {
   "cell_type": "markdown",
   "metadata": {},
   "source": [
    "## Notebook 2: AddAdress"
   ]
  },
  {
   "cell_type": "markdown",
   "metadata": {},
   "source": [
    "This Jupyter Notebook describes the second step of the practical part of the Master thesis. The focus of this part is the addition of complete adresses which achieved in several steps that are described below."
   ]
  },
  {
   "cell_type": "markdown",
   "metadata": {},
   "source": [
    "### Import libraries\n",
    "\n",
    "\n",
    "1. **re**  - This is a library to process regular expressions. \n",
    "\n",
    "2. **Numpy** - Numpy is a library for the easy use of vectors, matrices or arrays in general. It simplifies various numerical operations. \n",
    "\n",
    "3. **Codecs** - This module provides access to the most common Python encoders and decoders for example to be used for text encoding.\n",
    "\n",
    "4. **Pandas** - Pandas is a library to analyze and to manage data. It is used to create tables.\n",
    "\n"
   ]
  },
  {
   "cell_type": "code",
   "execution_count": 1,
   "metadata": {
    "colab": {
     "base_uri": "https://localhost:8080/"
    },
    "executionInfo": {
     "elapsed": 29895,
     "status": "ok",
     "timestamp": 1636563087615,
     "user": {
      "displayName": "Dewi K",
      "photoUrl": "https://lh3.googleusercontent.com/a/default-user=s64",
      "userId": "03606647171577901504"
     },
     "user_tz": -60
    },
    "id": "w59VY7LXhqdO",
    "outputId": "1dce945e-2440-4199-9b57-e5b29bb2b60e"
   },
   "outputs": [
    {
     "name": "stdout",
     "output_type": "stream",
     "text": [
      "Mounted at /content/gdrive\n"
     ]
    }
   ],
   "source": [
    "# import statements\n",
    "import re\n",
    "import numpy\n",
    "import codecs\n",
    "import numpy as np\n",
    "import pandas as pd\n",
    "#-*- coding: utf-8 -*-\n",
    "# from google.colab import drive \n",
    "# drive.mount('/content/gdrive')"
   ]
  },
  {
   "cell_type": "markdown",
   "metadata": {},
   "source": [
    "### Open the current address book"
   ]
  },
  {
   "cell_type": "code",
   "execution_count": 2,
   "metadata": {
    "executionInfo": {
     "elapsed": 1467,
     "status": "ok",
     "timestamp": 1636563089078,
     "user": {
      "displayName": "Dewi K",
      "photoUrl": "https://lh3.googleusercontent.com/a/default-user=s64",
      "userId": "03606647171577901504"
     },
     "user_tz": -60
    },
    "id": "ksmajEeXhqdQ"
   },
   "outputs": [],
   "source": [
    "#filedir='/Users/ilona-dewikusardi/Desktop/Datensets/F_23_92.jpg/2_recon_new_address_book.txt'\n",
    "filedir='./Outputs/2_recon_new_address_book.txt'\n",
    "address_book_txt=codecs.open(filedir, \"r\", \"utf-8\")\n",
    "address_book=address_book_txt.read()\n",
    "address_book_txt.close()\n",
    "#address_book"
   ]
  },
  {
   "cell_type": "markdown",
   "metadata": {},
   "source": [
    "### Addition of the adresses"
   ]
  },
  {
   "cell_type": "code",
   "execution_count": null,
   "metadata": {
    "colab": {
     "base_uri": "https://localhost:8080/"
    },
    "executionInfo": {
     "elapsed": 825,
     "status": "ok",
     "timestamp": 1636563089900,
     "user": {
      "displayName": "Dewi K",
      "photoUrl": "https://lh3.googleusercontent.com/a/default-user=s64",
      "userId": "03606647171577901504"
     },
     "user_tz": -60
    },
    "id": "fzC9UojJhqdQ",
    "outputId": "c057ddf4-98c0-43a9-899d-cbd8dc1d33f3"
   },
   "outputs": [],
   "source": [
    "'''Adding the missing House Numbers'''\n",
    "\n",
    "#split address book into lines\n",
    "address_book_list = address_book.split('\\r\\n')\n",
    "\n",
    "current = 0\n",
    "temp = []\n",
    "for info in address_book_list:\n",
    "    #if entry only contains 2 elements, don't take number\n",
    "    #if len(info.split(' ')) < 3 and len(info.split(' ')) != 1:\n",
    "        #continue\n",
    "    infoSplit = info.split(' ')\n",
    "    houseNum = infoSplit[0]\n",
    "    if houseNum.isdigit():\n",
    "        current = int(houseNum)\n",
    "    else:\n",
    "        info = str(current) + ' ' + info\n",
    "    temp.append(info)\n",
    "address_book_list = temp\n",
    "address_book_numbered = '\\r\\n'.join(address_book_list)\n",
    "#Save address book with every line starting with a number\n",
    "#with open('/Users/ilona-dewikusardi/Desktop/Datensets/F_23_92.jpg/address_book_numbered.txt', 'w') as fw:\n",
    "with open('./Outputs/address_book_numbered.txt', 'w') as fw:\n",
    "    fw.write(address_book_numbered)\n",
    "\n",
    "address_book_numbered\n",
    "address_book_numbered_list = address_book_numbered.split('\\r\\n')\n",
    "address_book_numbered_list"
   ]
  },
  {
   "cell_type": "code",
   "execution_count": 4,
   "metadata": {
    "executionInfo": {
     "elapsed": 1196,
     "status": "ok",
     "timestamp": 1636563091093,
     "user": {
      "displayName": "Dewi K",
      "photoUrl": "https://lh3.googleusercontent.com/a/default-user=s64",
      "userId": "03606647171577901504"
     },
     "user_tz": -60
    },
    "id": "e0-cQoknhqdT"
   },
   "outputs": [],
   "source": [
    "'''Identifying Street names and saving into StreetNameList'''\n",
    "regex = r'\\r*\\n*\\d+\\s([A-Za-zäöü\\-]*\\s*(straße|platz|gasse|weg|br[uü]cke|halle|markt)|[A-Za-zäöü\\-]*\\s*(Straße|Platz|Gasse|Weg|Br[uü]cke|Halle|Bahnlinie|Markt))(.*\\r\\n){1,3}.*Distr'\n",
    "compiled_re = re.compile(regex)\n",
    "res = compiled_re.findall(address_book_numbered)\n",
    "StreetNameList = []\n",
    "for street in res:\n",
    "    StreetNameList.append(street[0])\n",
    "StreetNames = '\\r\\n'.join(StreetNameList)\n",
    "#with open('/Users/ilona-dewikusardi/Desktop/Datensets/F_23_92.jpg/2_StreetNameList.txt', 'w') as fw:\n",
    "with open('./Outputs/2_StreetNameList.txt', 'w') as fw:\n",
    "        fw.write(StreetNames)\n",
    "        \n",
    "#StreetNameList"
   ]
  },
  {
   "cell_type": "code",
   "execution_count": null,
   "metadata": {
    "colab": {
     "base_uri": "https://localhost:8080/"
    },
    "executionInfo": {
     "elapsed": 303,
     "status": "ok",
     "timestamp": 1636563091384,
     "user": {
      "displayName": "Dewi K",
      "photoUrl": "https://lh3.googleusercontent.com/a/default-user=s64",
      "userId": "03606647171577901504"
     },
     "user_tz": -60
    },
    "id": "-Sk0ye2nhqdU",
    "outputId": "555f1a36-d527-41b3-b397-d9969eda94f5"
   },
   "outputs": [],
   "source": [
    "'''Set a Marker at every entry, that contains a street name,\n",
    "that needs to be added to the following entries'''\n",
    "#regex = r'\\r*\\n*\\d+\\s([A-Za-zäöü\\-]*\\s*(straße|platz|gasse|weg|br[uü]cke|halle|markt)|[A-Za-zäöü\\-]*\\s*(Straße|Platz|Gasse|Weg|Br[uü]cke|Halle|Bahnlinie|Markt))(.*\\r\\n){1,3}.*Distr'\n",
    "regex1 = r'\\r*\\n*\\d+\\s([A-Za-zäöü\\-]*\\s*(straße|platz|gasse|weg|br[uü]cke|halle|markt)|[A-Za-zäöü\\-]*\\s*(Straße|Platz|Gasse|Weg|Br[uü]cke|Halle|Bahnlinie|Markt))'\n",
    "regex2 = r'.*Distr'\n",
    "streetregex = re.compile(regex1)\n",
    "distriktregex = re.compile(regex2)\n",
    "index = 0\n",
    "limit = None\n",
    "counter = 0\n",
    "marker_address_book_list=[]\n",
    "\n",
    "for entry in address_book_numbered_list:\n",
    "    if streetregex.match(str(entry)):\n",
    "        if distriktregex.match(str(address_book_numbered_list[counter+2])):\n",
    "            marker_address_book_list.append('Marker2'+ ' ' + str(entry))\n",
    "            print(str(entry))\n",
    "        elif distriktregex.match(str(address_book_numbered_list[counter+3])):\n",
    "            marker_address_book_list.append('Marker3'+ ' ' + str(entry))\n",
    "            print(str(entry))\n",
    "        elif distriktregex.match(str(address_book_numbered_list[counter+1])):\n",
    "            marker_address_book_list.append('Marker1'+ ' ' + str(entry))\n",
    "            print(str(entry))\n",
    "    else:\n",
    "        marker_address_book_list.append(str(entry))\n",
    "    \n",
    "    index += 1\n",
    "    counter += 1\n",
    "    if index == limit:\n",
    "        break\n",
    "#marker_address_book_list"
   ]
  },
  {
   "cell_type": "code",
   "execution_count": null,
   "metadata": {
    "colab": {
     "base_uri": "https://localhost:8080/"
    },
    "executionInfo": {
     "elapsed": 10,
     "status": "ok",
     "timestamp": 1636563091385,
     "user": {
      "displayName": "Dewi K",
      "photoUrl": "https://lh3.googleusercontent.com/a/default-user=s64",
      "userId": "03606647171577901504"
     },
     "user_tz": -60
    },
    "id": "ngs6s21WhqdV",
    "outputId": "f1d9e035-d3ff-4a6d-f2da-1c6c7b87400a"
   },
   "outputs": [],
   "source": [
    "''''''\n",
    "\n",
    "from string import digits\n",
    "x = []\n",
    "\n",
    "for entry in marker_address_book_list:\n",
    "    if 'Marker' in entry:\n",
    "        streetresult = re.findall(streetregex, entry)\n",
    "        #print(streetresult)\n",
    "        for street in streetresult:\n",
    "            #adding , as preprocessing for the separation later on\n",
    "            x.append(street[0] + ',')\n",
    "            #print(street[0])\n",
    "        #print('Check' + str(entry))\n",
    "    else:\n",
    "        x.append(str(entry))\n",
    "x"
   ]
  },
  {
   "cell_type": "code",
   "execution_count": null,
   "metadata": {
    "colab": {
     "base_uri": "https://localhost:8080/"
    },
    "executionInfo": {
     "elapsed": 895,
     "status": "ok",
     "timestamp": 1636563092276,
     "user": {
      "displayName": "Dewi K",
      "photoUrl": "https://lh3.googleusercontent.com/a/default-user=s64",
      "userId": "03606647171577901504"
     },
     "user_tz": -60
    },
    "id": "MTAgNtKbhqdW",
    "outputId": "cf950604-cf3b-467e-ff02-9427da4fa0c7"
   },
   "outputs": [],
   "source": [
    "'''Adding the missing street names'''\n",
    "\n",
    "final_address_book_list = []\n",
    "current_streetname = ''\n",
    "\n",
    "for entry in x:\n",
    "    entrySplit = entry.split(' ')\n",
    "    streetname = entrySplit[0]\n",
    "    namesplit = entry.split(\",\")\n",
    "    name = namesplit[0]\n",
    "    \n",
    "    #print(streetname)\n",
    "    if not streetname.isdigit():\n",
    "        current_streetname = name\n",
    "    else:\n",
    "        entry = current_streetname + ', ' + entry\n",
    "    final_address_book_list.append(entry)\n",
    "final_address_book = '\\r\\n'.join(final_address_book_list)\n",
    "with open('./Outputs/2_Full_address_book.txt', 'w') as fw:\n",
    "        fw.write(final_address_book)\n",
    "\n",
    "final_address_book_list"
   ]
  },
  {
   "cell_type": "code",
   "execution_count": null,
   "metadata": {
    "colab": {
     "base_uri": "https://localhost:8080/"
    },
    "executionInfo": {
     "elapsed": 43,
     "status": "ok",
     "timestamp": 1636563092277,
     "user": {
      "displayName": "Dewi K",
      "photoUrl": "https://lh3.googleusercontent.com/a/default-user=s64",
      "userId": "03606647171577901504"
     },
     "user_tz": -60
    },
    "id": "8B1XQSwqhqdW",
    "outputId": "e3a34d5a-7566-44c5-f3a4-e2fd88c436cb"
   },
   "outputs": [],
   "source": [
    "#delete additional \\n\n",
    "final_address_book = re.sub('\\r', '',final_address_book)\n",
    "final_address_book_list = final_address_book.split('\\n')\n",
    "\n",
    "final_address_book_list"
   ]
  },
  {
   "cell_type": "code",
   "execution_count": null,
   "metadata": {
    "colab": {
     "base_uri": "https://localhost:8080/"
    },
    "executionInfo": {
     "elapsed": 526,
     "status": "ok",
     "timestamp": 1636563092796,
     "user": {
      "displayName": "Dewi K",
      "photoUrl": "https://lh3.googleusercontent.com/a/default-user=s64",
      "userId": "03606647171577901504"
     },
     "user_tz": -60
    },
    "id": "eS_WnicmhqdX",
    "outputId": "3f0d5d7f-b580-41a0-b1a0-399fada68f25"
   },
   "outputs": [],
   "source": [
    "'''Adding a comma after the house numbers as a preparation for the tpkenization later on'''\n",
    "final_address_book = re.sub('\\,\\s(\\d+)(\\s)', r', \\1, ',final_address_book)\n",
    "\n",
    "with open('./Outputs/2_Full_address_book.txt', 'w') as fw:   \n",
    "        fw.write(final_address_book)\n",
    "        \n",
    "final_address_book_list = final_address_book.split('\\n')\n",
    "final_address_book_list"
   ]
  }
 ],
 "metadata": {
  "colab": {
   "name": "2_addingAddress.ipynb",
   "provenance": []
  },
  "kernelspec": {
   "display_name": "Python 3",
   "language": "python",
   "name": "python3"
  },
  "language_info": {
   "codemirror_mode": {
    "name": "ipython",
    "version": 3
   },
   "file_extension": ".py",
   "mimetype": "text/x-python",
   "name": "python",
   "nbconvert_exporter": "python",
   "pygments_lexer": "ipython3",
   "version": "3.7.6"
  }
 },
 "nbformat": 4,
 "nbformat_minor": 1
}
