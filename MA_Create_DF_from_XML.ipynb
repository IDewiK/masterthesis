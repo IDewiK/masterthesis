{
 "cells": [
  {
   "cell_type": "markdown",
   "metadata": {},
   "source": [
    "## Creating a DataFrame form XML"
   ]
  },
  {
   "cell_type": "markdown",
   "metadata": {},
   "source": [
    "In this Notebook the coordinate data that is stored in a XML is saved in a DataFrame for further use in Notebook 9."
   ]
  },
  {
   "cell_type": "markdown",
   "metadata": {},
   "source": [
    "### Import libraries\n",
    "\n",
    "1. **re**  - This is a library to process regular expressions. \n",
    "\n",
    "2. **Numpy** - Numpy is a library for the easy use of vectors, matrices or arrays in general. It simplifies various numerical operations. \n",
    "\n",
    "3. **Codecs** - This module provides access to the most common Python encoders and decoders for example to be used for text encoding.\n",
    "\n",
    "4. **Pandas** - Pandas is a library to analyze and to manage data. It is used to create tables.\n",
    "\n",
    "5. **Os** - This enables a way to use the operating system.\n",
    "\n",
    "6. Moreover, xml.etree.ElementTree and objectify from lxml are used for easier and faster processing of XML data in Python."
   ]
  },
  {
   "cell_type": "code",
   "execution_count": 2,
   "metadata": {
    "colab": {
     "base_uri": "https://localhost:8080/"
    },
    "executionInfo": {
     "elapsed": 3377,
     "status": "ok",
     "timestamp": 1637800527060,
     "user": {
      "displayName": "Dewi K",
      "photoUrl": "https://lh3.googleusercontent.com/a/default-user=s64",
      "userId": "03606647171577901504"
     },
     "user_tz": -60
    },
    "id": "iFCB-a5wxb_o",
    "outputId": "c08aeb79-c748-4f09-c949-0dccb22e5c0f"
   },
   "outputs": [
    {
     "name": "stdout",
     "output_type": "stream",
     "text": [
      "Collecting pandas==1.3.4\n",
      "  Downloading pandas-1.3.4-cp37-cp37m-win_amd64.whl (10.0 MB)\n",
      "Requirement already satisfied: pytz>=2017.3 in c:\\users\\pavel nefedov\\anaconda3\\lib\\site-packages (from pandas==1.3.4) (2019.3)\n",
      "Requirement already satisfied: python-dateutil>=2.7.3 in c:\\users\\pavel nefedov\\anaconda3\\lib\\site-packages (from pandas==1.3.4) (2.8.1)\n",
      "Requirement already satisfied: numpy>=1.17.3; platform_machine != \"aarch64\" and platform_machine != \"arm64\" and python_version < \"3.10\" in c:\\users\\pavel nefedov\\anaconda3\\lib\\site-packages (from pandas==1.3.4) (1.18.1)\n",
      "Requirement already satisfied: six>=1.5 in c:\\users\\pavel nefedov\\anaconda3\\lib\\site-packages (from python-dateutil>=2.7.3->pandas==1.3.4) (1.14.0)\n",
      "Installing collected packages: pandas\n",
      "  Attempting uninstall: pandas\n",
      "    Found existing installation: pandas 1.0.1\n",
      "    Uninstalling pandas-1.0.1:\n",
      "      Successfully uninstalled pandas-1.0.1\n"
     ]
    },
    {
     "name": "stderr",
     "output_type": "stream",
     "text": [
      "ERROR: Could not install packages due to an EnvironmentError: [WinError 5] Zugriff verweigert: 'c:\\\\users\\\\pavel nefedov\\\\anaconda3\\\\lib\\\\site-packages\\\\~andas\\\\_libs\\\\algos.cp37-win_amd64.pyd'\n",
      "Consider using the `--user` option or check the permissions.\n",
      "\n"
     ]
    }
   ],
   "source": [
    "# import statements\n",
    "!pip install pandas==1.3.4\n",
    "import re\n",
    "import numpy\n",
    "import codecs\n",
    "import numpy as np\n",
    "import pandas as pd\n",
    "import os\n",
    "import xml.etree.ElementTree as ET\n",
    "from lxml import objectify\n",
    "#import rdflib\n",
    "#from rdflib.namespace import RDF, RDFS\n",
    "#from rdflib import Literal\n",
    "#nltk.download('punkt')\n",
    "#-*- coding: utf-8 -*-\n",
    "# from google.colab import drive \n",
    "# drive.mount('/content/gdrive')"
   ]
  },
  {
   "cell_type": "markdown",
   "metadata": {},
   "source": [
    "### Import data"
   ]
  },
  {
   "cell_type": "code",
   "execution_count": 5,
   "metadata": {
    "colab": {
     "base_uri": "https://localhost:8080/"
    },
    "executionInfo": {
     "elapsed": 13,
     "status": "ok",
     "timestamp": 1637800527061,
     "user": {
      "displayName": "Dewi K",
      "photoUrl": "https://lh3.googleusercontent.com/a/default-user=s64",
      "userId": "03606647171577901504"
     },
     "user_tz": -60
    },
    "id": "GDWNSvoTz_s6",
    "outputId": "6cac5e1b-76db-439a-ac2f-df2218b678ae"
   },
   "outputs": [
    {
     "name": "stdout",
     "output_type": "stream",
     "text": [
      "428\n",
      "{http://www.loc.gov/standards/alto/ns-v3#}alto {'{http://www.w3.org/2001/XMLSchema-instance}schemaLocation': 'http://www.loc.gov/standards/alto/ns-v3# http://www.loc.gov/alto/v3/alto-3-0.xsd'}\n",
      "{http://www.loc.gov/standards/alto/ns-v3#}Description {}\n",
      "{http://www.loc.gov/standards/alto/ns-v3#}Styles {}\n",
      "{http://www.loc.gov/standards/alto/ns-v3#}Layout {}\n"
     ]
    }
   ],
   "source": [
    "path ='./files/F_23_92.jpg/F_23_92_alto/'\n",
    "\n",
    "files = os.listdir(path)\n",
    "print(len(files))\n",
    "\n",
    "file_path_file1 = os.path.join(path, files[0])\n",
    "#file_path_file1 = '/content/gdrive/MyDrive/MA Python/F_23_92.jpg/F_23_92_alto/F_23_92-001.xml'\n",
    "tree = ET.parse(file_path_file1)\n",
    "root = tree.getroot()\n",
    "print(root.tag, root.attrib)\n",
    "\n",
    "for child in root:\n",
    "    print(child.tag, child.attrib)\n",
    "\n",
    "#print(ET.tostring(root, encoding='utf8').decode('utf8'))"
   ]
  },
  {
   "cell_type": "markdown",
   "metadata": {},
   "source": [
    "### Extract information stored in XMl into a Pandas DataFrame"
   ]
  },
  {
   "cell_type": "code",
   "execution_count": 421,
   "metadata": {
    "colab": {
     "base_uri": "https://localhost:8080/",
     "height": 419
    },
    "executionInfo": {
     "elapsed": 9719,
     "status": "ok",
     "timestamp": 1637800536774,
     "user": {
      "displayName": "Dewi K",
      "photoUrl": "https://lh3.googleusercontent.com/a/default-user=s64",
      "userId": "03606647171577901504"
     },
     "user_tz": -60
    },
    "id": "bhPtJJ5wRG0W",
    "outputId": "032098f9-4eb1-4ab6-f5bd-d3d370b6e142"
   },
   "outputs": [
    {
     "data": {
      "text/html": [
       "<div>\n",
       "<style scoped>\n",
       "    .dataframe tbody tr th:only-of-type {\n",
       "        vertical-align: middle;\n",
       "    }\n",
       "\n",
       "    .dataframe tbody tr th {\n",
       "        vertical-align: top;\n",
       "    }\n",
       "\n",
       "    .dataframe thead th {\n",
       "        text-align: right;\n",
       "    }\n",
       "</style>\n",
       "<table border=\"1\" class=\"dataframe\">\n",
       "  <thead>\n",
       "    <tr style=\"text-align: right;\">\n",
       "      <th></th>\n",
       "      <th>Page</th>\n",
       "      <th>Content</th>\n",
       "      <th>Height</th>\n",
       "      <th>Width</th>\n",
       "      <th>VPOS</th>\n",
       "      <th>HPOS</th>\n",
       "    </tr>\n",
       "  </thead>\n",
       "  <tbody>\n",
       "    <tr>\n",
       "      <th>0</th>\n",
       "      <td>F_23_92.jpg\\F_23_92-001.jpg</td>\n",
       "      <td>LtacstZrcüiv</td>\n",
       "      <td>40</td>\n",
       "      <td>266</td>\n",
       "      <td>5410</td>\n",
       "      <td>1720</td>\n",
       "    </tr>\n",
       "    <tr>\n",
       "      <th>1</th>\n",
       "      <td>F_23_92.jpg\\F_23_92-001.jpg</td>\n",
       "      <td>blümdsrg</td>\n",
       "      <td>49</td>\n",
       "      <td>217</td>\n",
       "      <td>5411</td>\n",
       "      <td>2007</td>\n",
       "    </tr>\n",
       "    <tr>\n",
       "      <th>2</th>\n",
       "      <td>F_23_92.jpg\\F_23_92-001.jpg</td>\n",
       "      <td>-</td>\n",
       "      <td>5</td>\n",
       "      <td>15</td>\n",
       "      <td>5432</td>\n",
       "      <td>2245</td>\n",
       "    </tr>\n",
       "    <tr>\n",
       "      <th>3</th>\n",
       "      <td>F_23_92.jpg\\F_23_92-001.jpg</td>\n",
       "      <td>öestZricI</td>\n",
       "      <td>39</td>\n",
       "      <td>190</td>\n",
       "      <td>5410</td>\n",
       "      <td>2281</td>\n",
       "    </tr>\n",
       "    <tr>\n",
       "      <th>4</th>\n",
       "      <td>F_23_92.jpg\\F_23_92-001.jpg</td>\n",
       "      <td>1^</td>\n",
       "      <td>39</td>\n",
       "      <td>26</td>\n",
       "      <td>5410</td>\n",
       "      <td>2494</td>\n",
       "    </tr>\n",
       "    <tr>\n",
       "      <th>...</th>\n",
       "      <td>...</td>\n",
       "      <td>...</td>\n",
       "      <td>...</td>\n",
       "      <td>...</td>\n",
       "      <td>...</td>\n",
       "      <td>...</td>\n",
       "    </tr>\n",
       "    <tr>\n",
       "      <th>260625</th>\n",
       "      <td>F_23_92.jpg\\F_23_92-401.jpg</td>\n",
       "      <td>Duschner,</td>\n",
       "      <td>53</td>\n",
       "      <td>218</td>\n",
       "      <td>4687</td>\n",
       "      <td>1188</td>\n",
       "    </tr>\n",
       "    <tr>\n",
       "      <th>260626</th>\n",
       "      <td>F_23_92.jpg\\F_23_92-401.jpg</td>\n",
       "      <td>I.,</td>\n",
       "      <td>50</td>\n",
       "      <td>62</td>\n",
       "      <td>4687</td>\n",
       "      <td>1436</td>\n",
       "    </tr>\n",
       "    <tr>\n",
       "      <th>260627</th>\n",
       "      <td>F_23_92.jpg\\F_23_92-401.jpg</td>\n",
       "      <td>Stanzer</td>\n",
       "      <td>54</td>\n",
       "      <td>190</td>\n",
       "      <td>4684</td>\n",
       "      <td>1529</td>\n",
       "    </tr>\n",
       "    <tr>\n",
       "      <th>260628</th>\n",
       "      <td>F_23_92.jpg\\F_23_92-401.jpg</td>\n",
       "      <td>I</td>\n",
       "      <td>38</td>\n",
       "      <td>17</td>\n",
       "      <td>4685</td>\n",
       "      <td>1806</td>\n",
       "    </tr>\n",
       "    <tr>\n",
       "      <th>260629</th>\n",
       "      <td>F_23_92.jpg\\F_23_92-401.jpg</td>\n",
       "      <td>Teil.</td>\n",
       "      <td>34</td>\n",
       "      <td>83</td>\n",
       "      <td>4762</td>\n",
       "      <td>1090</td>\n",
       "    </tr>\n",
       "  </tbody>\n",
       "</table>\n",
       "<p>260630 rows × 6 columns</p>\n",
       "</div>"
      ],
      "text/plain": [
       "                               Page       Content Height Width  VPOS  HPOS\n",
       "0       F_23_92.jpg\\F_23_92-001.jpg  LtacstZrcüiv     40   266  5410  1720\n",
       "1       F_23_92.jpg\\F_23_92-001.jpg      blümdsrg     49   217  5411  2007\n",
       "2       F_23_92.jpg\\F_23_92-001.jpg             -      5    15  5432  2245\n",
       "3       F_23_92.jpg\\F_23_92-001.jpg     öestZricI     39   190  5410  2281\n",
       "4       F_23_92.jpg\\F_23_92-001.jpg            1^     39    26  5410  2494\n",
       "...                             ...           ...    ...   ...   ...   ...\n",
       "260625  F_23_92.jpg\\F_23_92-401.jpg     Duschner,     53   218  4687  1188\n",
       "260626  F_23_92.jpg\\F_23_92-401.jpg           I.,     50    62  4687  1436\n",
       "260627  F_23_92.jpg\\F_23_92-401.jpg       Stanzer     54   190  4684  1529\n",
       "260628  F_23_92.jpg\\F_23_92-401.jpg             I     38    17  4685  1806\n",
       "260629  F_23_92.jpg\\F_23_92-401.jpg         Teil.     34    83  4762  1090\n",
       "\n",
       "[260630 rows x 6 columns]"
      ]
     },
     "execution_count": 421,
     "metadata": {},
     "output_type": "execute_result"
    }
   ],
   "source": [
    "ns = {'alto': 'http://www.loc.gov/standards/alto/ns-v3#'}\n",
    "df_cols = ['Page', 'Content', 'Height', 'Width', 'VPOS', 'HPOS'] \n",
    "rows = []\n",
    "for file in files:\n",
    "    file_path = path+file\n",
    "    #print('Processing...'+file)\n",
    "    tree = ET.parse(file_path)\n",
    "    root = tree.getroot()\n",
    "\n",
    "    for Layout in root.findall('alto:Layout', ns):\n",
    "        for Page in Layout.findall('alto:Page', ns):\n",
    "            for PrintSpace in Page.findall('alto:PrintSpace', ns):\n",
    "                for TextBlock in PrintSpace.findall('alto:TextBlock', ns):\n",
    "                    for TextLine in TextBlock.findall('alto:TextLine', ns):\n",
    "                            for String in TextLine.findall('alto:String', ns):\n",
    "                                if String is not None:\n",
    "                                    Content = String.attrib.get('CONTENT')\n",
    "                                    Height = String.attrib.get('HEIGHT')\n",
    "                                    Width = String.attrib.get('WIDTH')\n",
    "                                    VPOS = String.attrib.get('VPOS')\n",
    "                                    HPOS = String.attrib.get('HPOS')\n",
    "                                else:\n",
    "                                    None \n",
    "                                for Description in root.findall('alto:Description', ns):\n",
    "                                    MeasurementUnit = Description.find('alto:MeasurementUnit', ns)\n",
    "                                    #print(MeasurementUnit.text)\n",
    "                                    for sourceImageInformation in Description.findall('alto:sourceImageInformation', ns):\n",
    "                                        for fileName in sourceImageInformation.findall('alto:fileName', ns):\n",
    "                                            if fileName is not None:\n",
    "                                                Page = fileName.text\n",
    "                                            else: \n",
    "                                                None\n",
    "                                            rows.append({\n",
    "                                            \"Content\": Content,\n",
    "                                            \"Height\": Height,\n",
    "                                            \"Width\": Width,\n",
    "                                            \"VPOS\": VPOS,\n",
    "                                            'HPOS' : HPOS,\n",
    "                                            'Page' : Page\n",
    "                                            })                             \n",
    "\n",
    "Coordinates_df = pd.DataFrame(rows , columns = df_cols)\n",
    "Coordinates_df"
   ]
  },
  {
   "cell_type": "code",
   "execution_count": 422,
   "metadata": {
    "executionInfo": {
     "elapsed": 929,
     "status": "ok",
     "timestamp": 1637800537697,
     "user": {
      "displayName": "Dewi K",
      "photoUrl": "https://lh3.googleusercontent.com/a/default-user=s64",
      "userId": "03606647171577901504"
     },
     "user_tz": -60
    },
    "id": "uUpSKrGYZu46"
   },
   "outputs": [],
   "source": [
    "Coordinates_df.to_csv('./Outputs/Coordinates_df.csv', index=False, header=True)"
   ]
  },
  {
   "cell_type": "code",
   "execution_count": 423,
   "metadata": {
    "executionInfo": {
     "elapsed": 10,
     "status": "ok",
     "timestamp": 1637800537698,
     "user": {
      "displayName": "Dewi K",
      "photoUrl": "https://lh3.googleusercontent.com/a/default-user=s64",
      "userId": "03606647171577901504"
     },
     "user_tz": -60
    },
    "id": "vIgYGjkMxBc0"
   },
   "outputs": [],
   "source": [
    "#xml_file = '/content/gdrive/MyDrive/MA Python/F_23_92.jpg/F_23_92.jpg_alto/F_23_92-002.xml'\n",
    "#prstree = ET.parse(xml_file)\n",
    "#root = prstree.getroot()\n",
    "#xml_df = pd.read_xml('/content/gdrive/MyDrive/MA Python/F_23_92.jpg/F_23_92.jpg_alto/F_23_92-002.xml', xpath=\"//alto:String\", namespaces = {'alto':'http://www.loc.gov/standards/alto/ns-v3#'})\n",
    "#xml_df.head(10)\n"
   ]
  }
 ],
 "metadata": {
  "colab": {
   "authorship_tag": "ABX9TyNlccbpw2P83lhLOySp0omE",
   "collapsed_sections": [],
   "name": "2_Create_DF_from_XML.ipynb",
   "provenance": []
  },
  "kernelspec": {
   "display_name": "Python 3",
   "language": "python",
   "name": "python3"
  },
  "language_info": {
   "codemirror_mode": {
    "name": "ipython",
    "version": 3
   },
   "file_extension": ".py",
   "mimetype": "text/x-python",
   "name": "python",
   "nbconvert_exporter": "python",
   "pygments_lexer": "ipython3",
   "version": "3.7.6"
  }
 },
 "nbformat": 4,
 "nbformat_minor": 1
}
